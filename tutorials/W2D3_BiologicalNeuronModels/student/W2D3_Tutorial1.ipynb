{
  "cells": [
    {
      "cell_type": "markdown",
      "metadata": {
        "id": "view-in-github",
        "colab_type": "text"
      },
      "source": [
        "<a href=\"https://colab.research.google.com/github/gfrison/ml/blob/master/tutorials/W2D3_BiologicalNeuronModels/student/W2D3_Tutorial1.ipynb\" target=\"_parent\"><img src=\"https://colab.research.google.com/assets/colab-badge.svg\" alt=\"Open In Colab\"/></a>"
      ]
    },
    {
      "cell_type": "markdown",
      "metadata": {
        "execution": {},
        "id": "1V5ravU9gYEn"
      },
      "source": [
        "# Tutorial 1: The Leaky Integrate-and-Fire (LIF) Neuron Model\n",
        "\n",
        "**Week 2, Day 3: Biological Neuron Models**\n",
        "\n",
        "**By Neuromatch Academy**\n",
        "\n",
        "**Content creators:** Qinglong Gu, Songtin Li, John Murray, Richard Naud, Arvind Kumar\n",
        "\n",
        "**Content reviewers:**  Maryam Vaziri-Pashkam, Ella Batty, Lorenzo Fontolan, Richard Gao, Matthew Krause, Spiros Chavlis, Michael Waskom, Ethan Cheng\n",
        "\n",
        "**Production editors:** Gagana B, Spiros Chavlis"
      ]
    },
    {
      "cell_type": "markdown",
      "metadata": {
        "execution": {},
        "id": "37rWU5ImgYEp"
      },
      "source": [
        "---\n",
        "# Tutorial Objectives\n",
        "\n",
        "*Estimated timing of tutorial: 1 hour, 10 min*\n",
        "\n",
        "This is Tutorial 1 of a series on implementing realistic neuron models. In this tutorial, we will build up a leaky integrate-and-fire (LIF) neuron model and study its dynamics in response to various types of inputs. In particular, we are going to write a few lines of code to:\n",
        "\n",
        "- simulate the LIF neuron model\n",
        "\n",
        "- drive the LIF neuron with external inputs, such as direct currents, Gaussian white noise, and Poisson spike trains, etc.\n",
        "\n",
        "- study how different inputs affect the  LIF neuron's output (firing rate and spike time irregularity)\n",
        "\n",
        "Here, we will especially emphasize identifying conditions (input statistics) under which a neuron can spike at low firing rates and in an irregular manner. The reason for focusing on this is that in most cases, neocortical neurons spike in an irregular manner."
      ]
    },
    {
      "cell_type": "code",
      "execution_count": 14,
      "metadata": {
        "cellView": "form",
        "execution": {},
        "id": "v9QVitKhgYEp",
        "outputId": "c6a1cab4-580b-48db-9d2d-c979e141b23e",
        "colab": {
          "base_uri": "https://localhost:8080/",
          "height": 519
        }
      },
      "outputs": [
        {
          "output_type": "stream",
          "name": "stdout",
          "text": [
            "If you want to download the slides: https://osf.io/download/8djsm/\n"
          ]
        },
        {
          "output_type": "execute_result",
          "data": {
            "text/plain": [
              "<IPython.lib.display.IFrame at 0x789bd9f13160>"
            ],
            "text/html": [
              "\n",
              "        <iframe\n",
              "            width=\"854\"\n",
              "            height=\"480\"\n",
              "            src=\"https://mfr.ca-1.osf.io/render?url=https://osf.io/8djsm/?direct%26mode=render%26action=download%26mode=render\"\n",
              "            frameborder=\"0\"\n",
              "            allowfullscreen\n",
              "            \n",
              "        ></iframe>\n",
              "        "
            ]
          },
          "metadata": {},
          "execution_count": 14
        }
      ],
      "source": [
        "# @title Tutorial slides\n",
        "# @markdown These are the slides for the videos in all tutorials today\n",
        "from IPython.display import IFrame\n",
        "link_id = \"8djsm\"\n",
        "print(f\"If you want to download the slides: https://osf.io/download/{link_id}/\")\n",
        "IFrame(src=f\"https://mfr.ca-1.osf.io/render?url=https://osf.io/{link_id}/?direct%26mode=render%26action=download%26mode=render\", width=854, height=480)"
      ]
    },
    {
      "cell_type": "markdown",
      "metadata": {
        "execution": {},
        "id": "bVXVKWvcgYEq"
      },
      "source": [
        "---\n",
        "# Setup"
      ]
    },
    {
      "cell_type": "code",
      "execution_count": 2,
      "metadata": {
        "execution": {},
        "id": "EFfUko9AgYEq",
        "outputId": "44800873-5f5c-4dd4-8f71-9a4c75795b53",
        "colab": {
          "base_uri": "https://localhost:8080/"
        }
      },
      "outputs": [
        {
          "output_type": "stream",
          "name": "stdout",
          "text": [
            "  Preparing metadata (setup.py) ... \u001b[?25l\u001b[?25hdone\n",
            "  Preparing metadata (setup.py) ... \u001b[?25l\u001b[?25hdone\n",
            "\u001b[2K   \u001b[90m━━━━━━━━━━━━━━━━━━━━━━━━━━━━━━━━━━━━━━━━\u001b[0m \u001b[32m1.6/1.6 MB\u001b[0m \u001b[31m20.7 MB/s\u001b[0m eta \u001b[36m0:00:00\u001b[0m\n",
            "\u001b[?25h  Building wheel for vibecheck (setup.py) ... \u001b[?25l\u001b[?25hdone\n",
            "  Building wheel for datatops (setup.py) ... \u001b[?25l\u001b[?25hdone\n"
          ]
        }
      ],
      "source": [
        "# @title Install and import feedback gadget\n",
        "\n",
        "!pip3 install vibecheck datatops --quiet\n",
        "\n",
        "from vibecheck import DatatopsContentReviewContainer\n",
        "def content_review(notebook_section: str):\n",
        "    return DatatopsContentReviewContainer(\n",
        "        \"\",  # No text prompt\n",
        "        notebook_section,\n",
        "        {\n",
        "            \"url\": \"https://pmyvdlilci.execute-api.us-east-1.amazonaws.com/klab\",\n",
        "            \"name\": \"neuromatch_cn\",\n",
        "            \"user_key\": \"y1x3mpx5\",\n",
        "        },\n",
        "    ).render()\n",
        "\n",
        "\n",
        "feedback_prefix = \"W2D3_T1\""
      ]
    },
    {
      "cell_type": "code",
      "execution_count": 3,
      "metadata": {
        "cellView": "both",
        "execution": {},
        "id": "NAZ6GaZ9gYEr"
      },
      "outputs": [],
      "source": [
        "# Imports\n",
        "import numpy as np\n",
        "import matplotlib.pyplot as plt"
      ]
    },
    {
      "cell_type": "code",
      "execution_count": 4,
      "metadata": {
        "execution": {},
        "id": "AASnpmAngYEr"
      },
      "outputs": [],
      "source": [
        "# @title Figure Settings\n",
        "import logging\n",
        "logging.getLogger('matplotlib.font_manager').disabled = True\n",
        "\n",
        "import ipywidgets as widgets  # interactive display\n",
        "%config InlineBackend.figure_format = 'retina'\n",
        "# use NMA plot style\n",
        "plt.style.use(\"https://raw.githubusercontent.com/NeuromatchAcademy/course-content/main/nma.mplstyle\")\n",
        "my_layout = widgets.Layout()"
      ]
    },
    {
      "cell_type": "code",
      "execution_count": 5,
      "metadata": {
        "execution": {},
        "id": "9bobeVhigYEr"
      },
      "outputs": [],
      "source": [
        "# @title Plotting Functions\n",
        "\n",
        "def plot_volt_trace(pars, v, sp):\n",
        "  \"\"\"\n",
        "  Plot trajetory of membrane potential for a single neuron\n",
        "\n",
        "  Expects:\n",
        "  pars   : parameter dictionary\n",
        "  v      : volt trajetory\n",
        "  sp     : spike train\n",
        "\n",
        "  Returns:\n",
        "  figure of the membrane potential trajetory for a single neuron\n",
        "  \"\"\"\n",
        "\n",
        "  V_th = pars['V_th']\n",
        "  dt, range_t = pars['dt'], pars['range_t']\n",
        "  if sp.size:\n",
        "    sp_num = (sp / dt).astype(int) - 1\n",
        "    v[sp_num] += 20  # draw nicer spikes\n",
        "\n",
        "  plt.plot(pars['range_t'], v, 'b')\n",
        "  plt.axhline(V_th, 0, 1, color='k', ls='--')\n",
        "  plt.xlabel('Time (ms)')\n",
        "  plt.ylabel('V (mV)')\n",
        "  plt.legend(['Membrane\\npotential', r'Threshold V$_{\\mathrm{th}}$'],\n",
        "             loc=[1.05, 0.75])\n",
        "  plt.ylim([-80, -40])\n",
        "  plt.show()\n",
        "\n",
        "\n",
        "def plot_GWN(pars, I_GWN):\n",
        "  \"\"\"\n",
        "  Args:\n",
        "    pars  : parameter dictionary\n",
        "    I_GWN : Gaussian white noise input\n",
        "\n",
        "  Returns:\n",
        "    figure of the gaussian white noise input\n",
        "  \"\"\"\n",
        "\n",
        "  plt.figure(figsize=(12, 4))\n",
        "  plt.subplot(121)\n",
        "  plt.plot(pars['range_t'][::3], I_GWN[::3], 'b')\n",
        "  plt.xlabel('Time (ms)')\n",
        "  plt.ylabel(r'$I_{GWN}$ (pA)')\n",
        "  plt.subplot(122)\n",
        "  plot_volt_trace(pars, v, sp)\n",
        "  plt.tight_layout()\n",
        "  plt.show()\n",
        "\n",
        "\n",
        "def my_hists(isi1, isi2, cv1, cv2, sigma1, sigma2):\n",
        "  \"\"\"\n",
        "  Args:\n",
        "    isi1 : vector with inter-spike intervals\n",
        "    isi2 : vector with inter-spike intervals\n",
        "    cv1  : coefficient of variation for isi1\n",
        "    cv2  : coefficient of variation for isi2\n",
        "\n",
        "  Returns:\n",
        "    figure with two histograms, isi1, isi2\n",
        "\n",
        "  \"\"\"\n",
        "  plt.figure(figsize=(11, 4))\n",
        "  my_bins = np.linspace(10, 30, 20)\n",
        "  plt.subplot(121)\n",
        "  plt.hist(isi1, bins=my_bins, color='b', alpha=0.5)\n",
        "  plt.xlabel('ISI (ms)')\n",
        "  plt.ylabel('count')\n",
        "  plt.title(r'$\\sigma_{GWN}=$%.1f, CV$_{\\mathrm{isi}}$=%.3f' % (sigma1, cv1))\n",
        "\n",
        "  plt.subplot(122)\n",
        "  plt.hist(isi2, bins=my_bins, color='b', alpha=0.5)\n",
        "  plt.xlabel('ISI (ms)')\n",
        "  plt.ylabel('count')\n",
        "  plt.title(r'$\\sigma_{GWN}=$%.1f, CV$_{\\mathrm{isi}}$=%.3f' % (sigma2, cv2))\n",
        "  plt.tight_layout()\n",
        "  plt.show()"
      ]
    },
    {
      "cell_type": "markdown",
      "metadata": {
        "execution": {},
        "id": "RM8F2GPkgYEr"
      },
      "source": [
        "---\n",
        "# Section 1: The Leaky Integrate-and-Fire (LIF) model"
      ]
    },
    {
      "cell_type": "code",
      "execution_count": 6,
      "metadata": {
        "execution": {},
        "id": "5-1NIzsJgYEs",
        "outputId": "c2a16b89-054c-4101-aa52-1a80da05cb99",
        "colab": {
          "base_uri": "https://localhost:8080/",
          "height": 581,
          "referenced_widgets": [
            "2c72e1c370d046689e43b9f79ea9e6c0",
            "e3673bf1d05e41aeb3be286c62093c74",
            "0e354496cbe14769bdb2a3fe6ad5ee51",
            "bbb7ddb971034ba9b36636560bc33d6d",
            "405926ea7728411f9edd5e33be6f1217",
            "b928cbbe35d94702b24f07cc11b818d3"
          ]
        }
      },
      "outputs": [
        {
          "output_type": "display_data",
          "data": {
            "text/plain": [
              "Tab(children=(Output(), Output()), _titles={'0': 'Youtube', '1': 'Bilibili'})"
            ],
            "application/vnd.jupyter.widget-view+json": {
              "version_major": 2,
              "version_minor": 0,
              "model_id": "2c72e1c370d046689e43b9f79ea9e6c0"
            }
          },
          "metadata": {}
        }
      ],
      "source": [
        "# @title Video 1: Reduced Neuron Models\n",
        "from ipywidgets import widgets\n",
        "from IPython.display import YouTubeVideo\n",
        "from IPython.display import IFrame\n",
        "from IPython.display import display\n",
        "\n",
        "\n",
        "class PlayVideo(IFrame):\n",
        "  def __init__(self, id, source, page=1, width=400, height=300, **kwargs):\n",
        "    self.id = id\n",
        "    if source == 'Bilibili':\n",
        "      src = f'https://player.bilibili.com/player.html?bvid={id}&page={page}'\n",
        "    elif source == 'Osf':\n",
        "      src = f'https://mfr.ca-1.osf.io/render?url=https://osf.io/download/{id}/?direct%26mode=render'\n",
        "    super(PlayVideo, self).__init__(src, width, height, **kwargs)\n",
        "\n",
        "\n",
        "def display_videos(video_ids, W=400, H=300, fs=1):\n",
        "  tab_contents = []\n",
        "  for i, video_id in enumerate(video_ids):\n",
        "    out = widgets.Output()\n",
        "    with out:\n",
        "      if video_ids[i][0] == 'Youtube':\n",
        "        video = YouTubeVideo(id=video_ids[i][1], width=W,\n",
        "                             height=H, fs=fs, rel=0)\n",
        "        print(f'Video available at https://youtube.com/watch?v={video.id}')\n",
        "      else:\n",
        "        video = PlayVideo(id=video_ids[i][1], source=video_ids[i][0], width=W,\n",
        "                          height=H, fs=fs, autoplay=False)\n",
        "        if video_ids[i][0] == 'Bilibili':\n",
        "          print(f'Video available at https://www.bilibili.com/video/{video.id}')\n",
        "        elif video_ids[i][0] == 'Osf':\n",
        "          print(f'Video available at https://osf.io/{video.id}')\n",
        "      display(video)\n",
        "    tab_contents.append(out)\n",
        "  return tab_contents\n",
        "\n",
        "\n",
        "video_ids = [('Youtube', 'rSExvwCVRYg'), ('Bilibili', 'BV1m5411h7Jv')]\n",
        "tab_contents = display_videos(video_ids, W=854, H=480)\n",
        "tabs = widgets.Tab()\n",
        "tabs.children = tab_contents\n",
        "for i in range(len(tab_contents)):\n",
        "  tabs.set_title(i, video_ids[i][0])\n",
        "display(tabs)"
      ]
    },
    {
      "cell_type": "code",
      "execution_count": 7,
      "metadata": {
        "execution": {},
        "id": "kJgVV09bgYEs",
        "outputId": "cb692801-2054-4fdd-f3a2-2be26b21f412",
        "colab": {
          "base_uri": "https://localhost:8080/",
          "height": 62,
          "referenced_widgets": [
            "01e07d863f63443499064fe2115f6ee8",
            "031ae03a56fd4067814cd4c1ad2831c3",
            "25b738716537448fa2bd478a81082a10",
            "1f0aa29a4d8e434d9db10aaaecaa905a",
            "bdc7e533ba8b4f91b155fa8a9008da86",
            "6a080f62399e4ded802ceed26bea3304",
            "364a8f72f6b24299996a8475706b9692",
            "19bac05c496143858eec182f65b9efd4",
            "902dbefc50c64a95a687843b0667cf61",
            "a7e6a236641d4bb28f454a1d168afcc1",
            "e2310060742d4ac69a797d365bd8e34f",
            "92f8499b2ffa4c38800cfa67126f07f3",
            "79fe8bd0a8d147b0a911ad4e9d68f5f2",
            "f16886a8628240bf914879e12768e387",
            "24401902b30a4a8dad9140c14f5d7647",
            "e2ffc33402134d5caae8ecf8ac7cc9b5",
            "5aa7421391d64a02b933449321f14c14",
            "962e1faff0674f3eb78c8cd36e29f24d",
            "388891b4e8744c09b26d9e4826fd540a",
            "fe53081648644c9b900432c1597c6607",
            "4dbb9815802f4e37b74824c5479e21b3",
            "25eabfb342144b87a42b2706e77543b1",
            "ba26d4a79fae4af89ded8cafbc2914c6",
            "b8739da341074247b7c52fef89d4c2bb",
            "4afa6640759d49a99fb1b895a12502ec",
            "13b49e48769b4604bb0c320b761f58ae"
          ]
        }
      },
      "outputs": [
        {
          "output_type": "display_data",
          "data": {
            "text/plain": [
              "VBox(children=(VBox(children=(HBox(children=(Button(description='🙂', layout=Layout(height='auto', padding='0.5…"
            ],
            "application/vnd.jupyter.widget-view+json": {
              "version_major": 2,
              "version_minor": 0,
              "model_id": "01e07d863f63443499064fe2115f6ee8"
            }
          },
          "metadata": {}
        }
      ],
      "source": [
        "# @title Submit your feedback\n",
        "content_review(f\"{feedback_prefix}_LIF_model_Video\")"
      ]
    },
    {
      "cell_type": "markdown",
      "metadata": {
        "execution": {},
        "id": "Dr5WkhdpgYEs"
      },
      "source": [
        "This video introduces the reduction of a biological neuron to a simple leaky-integrate-fire (LIF) neuron model.\n",
        "\n",
        "<details>\n",
        "<summary> <font color='blue'>Click here for text recap of video </font></summary>\n",
        "\n",
        "Now, it's your turn to implement one of the simplest mathematical model of a neuron: the leaky integrate-and-fire (LIF) model. The basic idea of LIF neuron was proposed in 1907 by Louis Édouard Lapicque, long before we understood the electrophysiology of a neuron (see a translation of [Lapicque's paper](https://pubmed.ncbi.nlm.nih.gov/17968583/) ). More details of the model can be found in the book [**Theoretical neuroscience**](http://www.gatsby.ucl.ac.uk/~dayan/book/) by Peter Dayan and Laurence F. Abbott.\n",
        "\n",
        "The subthreshold membrane potential dynamics of a LIF neuron is described by\n",
        "\n",
        "\\begin{eqnarray}\n",
        "C_m\\frac{dV}{dt} = -g_L(V-E_L) + I,\\quad (1)\n",
        "\\end{eqnarray}\n",
        "\n",
        "where $C_m$ is the membrane capacitance, $V$ is the membrane potential, $g_L$ is the leak conductance ($g_L = 1/R$, the inverse of the leak resistance $R$ mentioned in previous tutorials), $E_L$ is the resting potential, and $I$ is the external input current.\n",
        "\n",
        "Dividing both sides of the above equation by $g_L$ gives\n",
        "\n",
        "\\begin{align}\n",
        "\\tau_m\\frac{dV}{dt} = -(V-E_L) + \\frac{I}{g_L}\\,,\\quad (2)\n",
        "\\end{align}\n",
        "\n",
        "where the $\\tau_m$ is membrane time constant and is defined as $\\tau_m=C_m/g_L$.\n",
        "\n",
        "Note that dividing capacitance by conductance gives units of time!\n",
        "\n",
        "Below, we will use Eqn.(2) to simulate LIF neuron dynamics.\n",
        "\n",
        "If $I$ is sufficiently strong such that $V$ reaches a certain threshold value $V_{\\rm th}$, $V$ is reset to a reset potential $V_{\\rm reset}< V_{\\rm th}$, and voltage is clamped to $V_{\\rm reset}$ for $\\tau_{\\rm ref}$ ms, mimicking the refractoriness of the neuron during an action potential:\n",
        "\n",
        "\\begin{eqnarray}\n",
        "\\mathrm{if}\\quad V(t_{\\text{sp}})\\geq V_{\\rm th}&:& V(t)=V_{\\rm reset} \\text{  for } t\\in(t_{\\text{sp}}, t_{\\text{sp}} + \\tau_{\\text{ref}}]\n",
        "\\end{eqnarray}\n",
        "where $t_{\\rm sp}$ is the spike time when $V(t)$ just exceeded $V_{\\rm th}$.\n",
        "\n",
        "(**Note:** in the lecture slides, $\\theta$ corresponds to the threshold voltage $V_{th}$, and $\\Delta$ corresponds to the refractory time $\\tau_{\\rm ref}$.)\n",
        "\n",
        "</details>\n",
        "\n",
        "Note that you have seen the LIF model before if you looked at the pre-reqs Python or Calculus days!\n",
        "\n",
        "The LIF model captures the facts that a neuron:\n",
        "- performs spatial and temporal integration of synaptic inputs\n",
        "- generates a spike when the voltage reaches a certain threshold\n",
        "- goes refractory during the action potential\n",
        "- has a leaky membrane\n",
        "\n",
        "The LIF model assumes that the spatial and temporal integration of inputs is linear. Also, membrane potential dynamics close to the spike threshold are much slower in LIF neurons than in real neurons."
      ]
    },
    {
      "cell_type": "markdown",
      "metadata": {
        "execution": {},
        "id": "LAYZIk8igYEs"
      },
      "source": [
        "## Coding Exercise 1: Python code to simulate the LIF neuron\n",
        "\n",
        "We now write Python code to calculate our equation for the LIF neuron and simulate the LIF neuron dynamics. We will use the Euler method, which you saw in the linear systems case yesterday  to numerically integrate this equation:\n",
        "\n",
        "\\begin{equation}\n",
        "\\tau_m\\frac{dV}{dt} = -(V-E_L) + \\frac{I}{g_L}\\,\n",
        "\\end{equation}\n",
        "\n",
        "where $V$ is the membrane potential, $g_L$ is the leak conductance, $E_L$ is the resting potential, $I$ is the external input current, and $\\tau_m$ is membrane time constant.\n",
        "\n",
        "The cell below initializes a dictionary that stores parameters of the LIF neuron model and the simulation scheme. You can use `pars=default_pars(T=simulation_time, dt=time_step)` to get the parameters. Note that, `simulation_time` and `time_step` have the unit `ms`. In addition, you can add the value to a new parameter by `pars['New_param'] = value`."
      ]
    },
    {
      "cell_type": "code",
      "execution_count": 8,
      "metadata": {
        "execution": {},
        "id": "SDPcLX0hgYEs",
        "outputId": "a91da591-fbc0-4553-e8ca-1ff7220dbee0",
        "colab": {
          "base_uri": "https://localhost:8080/"
        }
      },
      "outputs": [
        {
          "output_type": "stream",
          "name": "stdout",
          "text": [
            "{'V_th': -55.0, 'V_reset': -75.0, 'tau_m': 10.0, 'g_L': 10.0, 'V_init': -75.0, 'E_L': -75.0, 'tref': 2.0, 'T': 400.0, 'dt': 0.1, 'range_t': array([0.000e+00, 1.000e-01, 2.000e-01, ..., 3.997e+02, 3.998e+02,\n",
            "       3.999e+02])}\n"
          ]
        }
      ],
      "source": [
        "# @markdown Execute this code to initialize the default parameters\n",
        "\n",
        "def default_pars(**kwargs):\n",
        "  pars = {}\n",
        "\n",
        "  # typical neuron parameters#\n",
        "  pars['V_th'] = -55.     # spike threshold [mV]\n",
        "  pars['V_reset'] = -75.  # reset potential [mV]\n",
        "  pars['tau_m'] = 10.     # membrane time constant [ms]\n",
        "  pars['g_L'] = 10.       # leak conductance [nS]\n",
        "  pars['V_init'] = -75.   # initial potential [mV]\n",
        "  pars['E_L'] = -75.      # leak reversal potential [mV]\n",
        "  pars['tref'] = 2.       # refractory time (ms)\n",
        "\n",
        "  # simulation parameters #\n",
        "  pars['T'] = 400.  # Total duration of simulation [ms]\n",
        "  pars['dt'] = .1   # Simulation time step [ms]\n",
        "\n",
        "  # external parameters if any #\n",
        "  for k in kwargs:\n",
        "    pars[k] = kwargs[k]\n",
        "\n",
        "  pars['range_t'] = np.arange(0, pars['T'], pars['dt'])  # Vector of discretized time points [ms]\n",
        "\n",
        "  return pars\n",
        "\n",
        "\n",
        "pars = default_pars()\n",
        "print(pars)"
      ]
    },
    {
      "cell_type": "markdown",
      "metadata": {
        "execution": {},
        "id": "7K-9AUIfgYEs"
      },
      "source": [
        "Complete the function below to simulate the LIF neuron when receiving external current inputs. You can use `v, sp = run_LIF(pars, Iinj)` to get the membrane potential (`v`) and spike train (`sp`) given the dictionary `pars` and input current `Iinj`."
      ]
    },
    {
      "cell_type": "code",
      "execution_count": 9,
      "metadata": {
        "cellView": "both",
        "execution": {},
        "id": "vnBOvHFjgYEt",
        "outputId": "6128840b-e62d-4f8d-aa5e-6c6774b9817b",
        "colab": {
          "base_uri": "https://localhost:8080/",
          "height": 592
        }
      },
      "outputs": [
        {
          "output_type": "display_data",
          "data": {
            "text/plain": [
              "<Figure size 800x600 with 1 Axes>"
            ],
            "image/png": "[encoded data removed]"
          },
          "metadata": {
            "image/png": {
              "width": 767,
              "height": 575
            }
          }
        }
      ],
      "source": [
        "def run_LIF(pars, Iinj, stop=False):\n",
        "  \"\"\"\n",
        "  Simulate the LIF dynamics with external input current\n",
        "\n",
        "  Args:\n",
        "    pars       : parameter dictionary\n",
        "    Iinj       : input current [pA]. The injected current here can be a value\n",
        "                 or an array\n",
        "    stop       : boolean. If True, use a current pulse\n",
        "\n",
        "  Returns:\n",
        "    rec_v      : membrane potential\n",
        "    rec_sp     : spike times\n",
        "  \"\"\"\n",
        "\n",
        "  # Set parameters\n",
        "  V_th, V_reset = pars['V_th'], pars['V_reset']\n",
        "  tau_m, g_L = pars['tau_m'], pars['g_L']\n",
        "  V_init, E_L = pars['V_init'], pars['E_L']\n",
        "  dt, range_t = pars['dt'], pars['range_t']\n",
        "  Lt = range_t.size\n",
        "  tref = pars['tref']\n",
        "\n",
        "  # Initialize voltage\n",
        "  v = np.zeros(Lt)\n",
        "  v[0] = V_init\n",
        "\n",
        "  # Set current time course\n",
        "  Iinj = Iinj * np.ones(Lt)\n",
        "\n",
        "  # If current pulse, set beginning and end to 0\n",
        "  if stop:\n",
        "    Iinj[:int(len(Iinj) / 2) - 1000] = 0\n",
        "    Iinj[int(len(Iinj) / 2) + 1000:] = 0\n",
        "\n",
        "  # Loop over time\n",
        "  rec_spikes = []  # record spike times\n",
        "  tr = 0.  # the count for refractory duration\n",
        "\n",
        "  for it in range(Lt - 1):\n",
        "\n",
        "    if tr > 0:  # check if in refractory period\n",
        "      v[it] = V_reset  # set voltage to reset\n",
        "      tr = tr - 1 # reduce running counter of refractory period\n",
        "\n",
        "    elif v[it] >= V_th:  # if voltage over threshold\n",
        "      rec_spikes.append(it)  # record spike event\n",
        "      v[it] = V_reset  # reset voltage\n",
        "      tr = tref / dt  # set refractory time\n",
        "\n",
        "    # Calculate the increment of the membrane potential\n",
        "    dv = (- (v[it] - E_L) + Iinj[it] / g_L) / tau_m * dt\n",
        "\n",
        "    # Update the membrane potential\n",
        "    v[it + 1] = dv + v[it]\n",
        "\n",
        "  # Get spike times in ms\n",
        "  rec_spikes = np.array(rec_spikes) * dt\n",
        "\n",
        "  return v, rec_spikes\n",
        "\n",
        "\n",
        "# Get parameters\n",
        "pars = default_pars(T=500)\n",
        "\n",
        "# Simulate LIF model\n",
        "v, sp = run_LIF(pars, Iinj=100, stop=True)\n",
        "\n",
        "# Visualize\n",
        "plot_volt_trace(pars, v, sp)"
      ]
    },
    {
      "cell_type": "markdown",
      "metadata": {
        "execution": {},
        "id": "UyqNoxzegYEt"
      },
      "source": [
        "[*Click for solution*](https://github.com/NeuromatchAcademy/course-content/tree/main/tutorials/W2D3_BiologicalNeuronModels/solutions/W2D3_Tutorial1_Solution_60a1e954.py)\n",
        "\n",
        "*Example output:*\n",
        "\n",
        "<img alt='Solution hint' align='left' width=771.0 height=577.0 src=https://raw.githubusercontent.com/NeuromatchAcademy/course-content/main/tutorials/W2D3_BiologicalNeuronModels/static/W2D3_Tutorial1_Solution_60a1e954_0.png>\n",
        "\n"
      ]
    },
    {
      "cell_type": "code",
      "execution_count": null,
      "metadata": {
        "cellView": "form",
        "execution": {},
        "id": "cV0qPksMgYEt"
      },
      "outputs": [],
      "source": [
        "# @title Submit your feedback\n",
        "content_review(f\"{feedback_prefix}_LIF_model_Exercise\")"
      ]
    },
    {
      "cell_type": "markdown",
      "metadata": {
        "execution": {},
        "id": "qZKk9ns6gYEt"
      },
      "source": [
        "---\n",
        "# Section 2: Response of an LIF model to different types of input currents\n",
        "\n",
        "*Estimated timing to here from start of tutorial: 20 min*\n",
        "\n",
        "In the following section, we will learn how to inject direct current and white noise to study the response of an LIF neuron."
      ]
    },
    {
      "cell_type": "code",
      "execution_count": 10,
      "metadata": {
        "execution": {},
        "id": "PnGQlOdjgYEt",
        "outputId": "5686efc1-cc12-401e-ac59-deb81e03f810",
        "colab": {
          "base_uri": "https://localhost:8080/",
          "height": 581,
          "referenced_widgets": [
            "39f84ff77feb452b968c1cd4ca1325c3",
            "c8651df16ee94c0f8c79698e7dcb00f6",
            "2a5a352e73e2426c9af4b4b901eafc3c",
            "816f1d9bc98d4c94a6a489f6c0f68424",
            "5fa6e550926842aeb2eb77f70edc66cd",
            "0ccd46628d3c4bc28225178ca0408348"
          ]
        }
      },
      "outputs": [
        {
          "output_type": "display_data",
          "data": {
            "text/plain": [
              "Tab(children=(Output(), Output()), _titles={'0': 'Youtube', '1': 'Bilibili'})"
            ],
            "application/vnd.jupyter.widget-view+json": {
              "version_major": 2,
              "version_minor": 0,
              "model_id": "39f84ff77feb452b968c1cd4ca1325c3"
            }
          },
          "metadata": {}
        }
      ],
      "source": [
        "# @title Video 2: Response of the LIF neuron to different inputs\n",
        "from ipywidgets import widgets\n",
        "from IPython.display import YouTubeVideo\n",
        "from IPython.display import IFrame\n",
        "from IPython.display import display\n",
        "\n",
        "\n",
        "class PlayVideo(IFrame):\n",
        "  def __init__(self, id, source, page=1, width=400, height=300, **kwargs):\n",
        "    self.id = id\n",
        "    if source == 'Bilibili':\n",
        "      src = f'https://player.bilibili.com/player.html?bvid={id}&page={page}'\n",
        "    elif source == 'Osf':\n",
        "      src = f'https://mfr.ca-1.osf.io/render?url=https://osf.io/download/{id}/?direct%26mode=render'\n",
        "    super(PlayVideo, self).__init__(src, width, height, **kwargs)\n",
        "\n",
        "\n",
        "def display_videos(video_ids, W=400, H=300, fs=1):\n",
        "  tab_contents = []\n",
        "  for i, video_id in enumerate(video_ids):\n",
        "    out = widgets.Output()\n",
        "    with out:\n",
        "      if video_ids[i][0] == 'Youtube':\n",
        "        video = YouTubeVideo(id=video_ids[i][1], width=W,\n",
        "                             height=H, fs=fs, rel=0)\n",
        "        print(f'Video available at https://youtube.com/watch?v={video.id}')\n",
        "      else:\n",
        "        video = PlayVideo(id=video_ids[i][1], source=video_ids[i][0], width=W,\n",
        "                          height=H, fs=fs, autoplay=False)\n",
        "        if video_ids[i][0] == 'Bilibili':\n",
        "          print(f'Video available at https://www.bilibili.com/video/{video.id}')\n",
        "        elif video_ids[i][0] == 'Osf':\n",
        "          print(f'Video available at https://osf.io/{video.id}')\n",
        "      display(video)\n",
        "    tab_contents.append(out)\n",
        "  return tab_contents\n",
        "\n",
        "\n",
        "video_ids = [('Youtube', 'preNGdab7Kk'), ('Bilibili', 'BV1Li4y137wS')]\n",
        "tab_contents = display_videos(video_ids, W=854, H=480)\n",
        "tabs = widgets.Tab()\n",
        "tabs.children = tab_contents\n",
        "for i in range(len(tab_contents)):\n",
        "  tabs.set_title(i, video_ids[i][0])\n",
        "display(tabs)"
      ]
    },
    {
      "cell_type": "code",
      "execution_count": 11,
      "metadata": {
        "cellView": "form",
        "execution": {},
        "id": "94QJQPmGgYEt",
        "outputId": "bd150dcb-40de-4ee3-eb30-e5d2736b0cf5",
        "colab": {
          "base_uri": "https://localhost:8080/",
          "height": 62,
          "referenced_widgets": [
            "9c71c6821650478089ad8e485c6de7ce",
            "5e45c0b133af432388005f90d2d40993",
            "1311c17b97f14c59aa4d8e942ba3581b",
            "0d38a367344544b7bf52de15ada88844",
            "d9ddfcf2b69d424693579496c4e08042",
            "11f6668f10da47f6bd9497bc1e6b1a72",
            "303517432d0a4f9da023ed2f529d2bc3",
            "322cbf9c32274e7386e15faba439c303",
            "938770300d0c40d2a48d433f6e89fe3a",
            "8c6e7559f7da4044a23f68af69618e60",
            "993010a622814602b0e8ce9ca5bac8f1",
            "3e185a913ccd4cd38fa6e4ec239ba730",
            "cc1eaeafd0ea45399a44c1e56f436abc",
            "4d40d47ec23541f3814d527b14c1a85e",
            "732903b7b9f54ba390165c9ea7971d9d",
            "d5bca5d1340c4c5d9f9284623e913076",
            "1144aa87d3f74576b7728aa67513f8f7",
            "c3db3df53e2b434da507d8ccfc6feb59",
            "61aeadf66fcc4b0c8e78314568885bde",
            "dc92cecaa50a4d89a575a2aa730f9e4a",
            "d535d9fd65314ec79683e8c449fbcef1",
            "d88c5f5abc9141208bc8300bcdc0c151",
            "3b288384bda14dabbe63d36bcac3c392",
            "75fc907b90484d999cf1b3f36d65edd9",
            "c39759f4bff24086b5abc561fc743740",
            "07286ea42b9640cdbc4e59a9505511b8"
          ]
        }
      },
      "outputs": [
        {
          "output_type": "display_data",
          "data": {
            "text/plain": [
              "VBox(children=(VBox(children=(HBox(children=(Button(description='🙂', layout=Layout(height='auto', padding='0.5…"
            ],
            "application/vnd.jupyter.widget-view+json": {
              "version_major": 2,
              "version_minor": 0,
              "model_id": "9c71c6821650478089ad8e485c6de7ce"
            }
          },
          "metadata": {}
        }
      ],
      "source": [
        "# @title Submit your feedback\n",
        "content_review(f\"{feedback_prefix}_Response_LIF_model_Video\")"
      ]
    },
    {
      "cell_type": "markdown",
      "metadata": {
        "execution": {},
        "id": "VR0ycgCbgYEt"
      },
      "source": [
        "## Section 2.1: Direct current (DC)\n",
        "\n",
        "*Estimated timing to here from start of tutorial: 30 min*\n"
      ]
    },
    {
      "cell_type": "markdown",
      "metadata": {
        "execution": {},
        "id": "kajWV3uhgYEt"
      },
      "source": [
        "### Interactive Demo 2.1: Parameter exploration of DC input amplitude\n",
        "Here's an interactive demo that shows how the LIF neuron behavior changes for DC input (constant current) with different amplitudes. We plot the membrane potential of an LIF neuron. You may notice that the neuron generates a spike. But this is just a cosmetic spike only for illustration purposes. In an LIF neuron, we only need to keep track of times when the neuron hits the threshold so the postsynaptic neurons can be informed of the spike.\n",
        "\n",
        "How much DC is needed to reach the threshold (rheobase current)? How does the membrane time constant affect the frequency of the neuron?"
      ]
    },
    {
      "cell_type": "code",
      "execution_count": 18,
      "metadata": {
        "execution": {},
        "id": "j-5El3eCgYEt",
        "outputId": "5091498e-a007-4bda-8886-76e4c6fb32c5",
        "colab": {
          "base_uri": "https://localhost:8080/",
          "height": 656,
          "referenced_widgets": [
            "890a91c5c7e34dd4a0971803ce292f30",
            "ee07a9c923b04a18a9d65c96ebccb758",
            "01b2f4d5d5fd45b281a36dc9e6740ed6",
            "78430733cc42413781e6d0c05bdd4e5c",
            "307fad72c07d4702aad15980f479b328",
            "ee73bae8144d4337af18536376201320",
            "05c416a0099c4344bbf226e2a8daafa5",
            "6546f51703e441fc98eee735566e5596",
            "84689dab055440b48835a389bf04d248"
          ]
        }
      },
      "outputs": [
        {
          "output_type": "display_data",
          "data": {
            "text/plain": [
              "interactive(children=(FloatSlider(value=191.0, description='I_dc', layout=Layout(width='450px'), max=300.0, st…"
            ],
            "application/vnd.jupyter.widget-view+json": {
              "version_major": 2,
              "version_minor": 0,
              "model_id": "890a91c5c7e34dd4a0971803ce292f30"
            }
          },
          "metadata": {}
        }
      ],
      "source": [
        "# @markdown Make sure you execute this cell to enable the widget!\n",
        "my_layout.width = '450px'\n",
        "@widgets.interact(\n",
        "    I_dc=widgets.FloatSlider(191., min=0., max=300., step=10.,\n",
        "                             layout=my_layout),\n",
        "    tau_m=widgets.FloatSlider(10., min=2., max=20., step=2.,\n",
        "                              layout=my_layout)\n",
        ")\n",
        "\n",
        "\n",
        "def diff_DC(I_dc=190., tau_m=10.):\n",
        "  pars = default_pars(T=100.)\n",
        "  # print(pars)\n",
        "  pars['tau_m'] = tau_m\n",
        "  v, sp = run_LIF(pars, Iinj=I_dc)\n",
        "  plot_volt_trace(pars, v, sp)\n",
        "  plt.show()"
      ]
    },
    {
      "cell_type": "markdown",
      "metadata": {
        "execution": {},
        "id": "WR5uXmQCgYEt"
      },
      "source": [
        "[*Click for solution*](https://github.com/NeuromatchAcademy/course-content/tree/main/tutorials/W2D3_BiologicalNeuronModels/solutions/W2D3_Tutorial1_Solution_1058324c.py)\n",
        "\n"
      ]
    },
    {
      "cell_type": "code",
      "execution_count": null,
      "metadata": {
        "cellView": "form",
        "execution": {},
        "id": "w7qCH2C9gYEt"
      },
      "outputs": [],
      "source": [
        "# @title Submit your feedback\n",
        "content_review(f\"{feedback_prefix}_Parameter_exploration_of_DC_input_amplitude_Interactive_Demo_and_Discussion\")"
      ]
    },
    {
      "cell_type": "markdown",
      "metadata": {
        "execution": {},
        "id": "Y2xzLr4EgYEt"
      },
      "source": [
        "## Section 2.2: Gaussian white noise (GWN) current\n",
        "\n",
        "*Estimated timing to here from start of tutorial: 38 min*\n",
        "\n",
        "Given the noisy nature of neuronal activity _in vivo_, neurons usually receive complex, time-varying inputs.\n",
        "\n",
        "To mimic this, we will now investigate the neuronal response when the LIF neuron receives Gaussian white noise $\\xi(t)$ with mean 0 ($\\mu = 0$) and some standard deviation $\\sigma$.\n",
        "\n",
        "Note that the GWN has zero mean, that is, it describes only the fluctuations of the input received by a neuron. We can thus modify our definition of GWN to have a nonzero mean value $\\mu$ that equals the DC input, since this is the average input into the cell. The cell below defines the modified gaussian white noise currents with nonzero mean $\\mu$."
      ]
    },
    {
      "cell_type": "markdown",
      "metadata": {
        "execution": {},
        "id": "Vl5lE5uxgYEt"
      },
      "source": [
        "### Interactive Demo 2.2: LIF neuron Explorer for noisy input\n",
        "\n",
        "\n",
        "The mean of the Gaussian white noise (GWN) is the amplitude of DC. Indeed, when $\\sigma = 0$, GWN is just a DC.\n",
        "\n",
        "So the question arises how does $\\sigma$ of the GWN affect the spiking behavior of the neuron. For instance we may want to know\n",
        "1.  how does the minimum input (i.e., $\\mu$) needed to make a neuron spike change with increase in $\\sigma$\n",
        "2.  how does the spike regularity change with increase in $\\sigma$\n",
        "\n",
        "To get an intuition about these questions you can use the following interactive demo that shows how the LIF neuron behavior changes for noisy input with different amplitudes (the mean $\\mu$) and fluctuation sizes ($\\sigma$). We use a helper function to generate this noisy input current: `my_GWN(pars, mu, sig, myseed=False)`.  Note that fixing the value of the random seed (e.g., `myseed=2020`) will allow you to obtain the same result every time you run this. We then use our `run_LIF` function to simulate the LIF model.\n"
      ]
    },
    {
      "cell_type": "code",
      "execution_count": null,
      "metadata": {
        "cellView": "form",
        "execution": {},
        "id": "FxL8cfbEgYEt"
      },
      "outputs": [],
      "source": [
        "# @markdown Execute to enable helper function `my_GWN`\n",
        "\n",
        "def my_GWN(pars, mu, sig, myseed=False):\n",
        "  \"\"\"\n",
        "  Function that generates Gaussian white noise input\n",
        "\n",
        "  Args:\n",
        "    pars       : parameter dictionary\n",
        "    mu         : noise baseline (mean)\n",
        "    sig        : noise amplitute (standard deviation)\n",
        "    myseed     : random seed. int or boolean\n",
        "                 the same seed will give the same\n",
        "                 random number sequence\n",
        "\n",
        "  Returns:\n",
        "    I          : Gaussian white noise input\n",
        "  \"\"\"\n",
        "\n",
        "  # Retrieve simulation parameters\n",
        "  dt, range_t = pars['dt'], pars['range_t']\n",
        "  Lt = range_t.size\n",
        "\n",
        "  # Set random seed\n",
        "  if myseed:\n",
        "      np.random.seed(seed=myseed)\n",
        "  else:\n",
        "      np.random.seed()\n",
        "\n",
        "  # Generate GWN\n",
        "  # we divide here by 1000 to convert units to sec.\n",
        "  I_gwn = mu + sig * np.random.randn(Lt) / np.sqrt(dt / 1000.)\n",
        "\n",
        "  return I_gwn\n",
        "\n",
        "help(my_GWN)"
      ]
    },
    {
      "cell_type": "code",
      "execution_count": null,
      "metadata": {
        "cellView": "form",
        "execution": {},
        "id": "UdJHsrvagYEu"
      },
      "outputs": [],
      "source": [
        "# @markdown Make sure you execute this cell to enable the widget!\n",
        "\n",
        "my_layout.width = '450px'\n",
        "@widgets.interact(\n",
        "    mu_gwn=widgets.FloatSlider(200., min=100., max=300., step=5.,\n",
        "                               layout=my_layout),\n",
        "    sig_gwn=widgets.FloatSlider(2.5, min=0., max=5., step=.5,\n",
        "                                layout=my_layout)\n",
        ")\n",
        "\n",
        "\n",
        "def diff_GWN_to_LIF(mu_gwn, sig_gwn):\n",
        "  pars = default_pars(T=100.)\n",
        "  I_GWN = my_GWN(pars, mu=mu_gwn, sig=sig_gwn)\n",
        "  v, sp = run_LIF(pars, Iinj=I_GWN)\n",
        "  plt.figure(figsize=(12, 4))\n",
        "  plt.subplot(121)\n",
        "  plt.plot(pars['range_t'][::3], I_GWN[::3], 'b')\n",
        "  plt.xlabel('Time (ms)')\n",
        "  plt.ylabel(r'$I_{GWN}$ (pA)')\n",
        "  plt.subplot(122)\n",
        "  plot_volt_trace(pars, v, sp)\n",
        "  plt.tight_layout()\n",
        "  plt.show()"
      ]
    },
    {
      "cell_type": "markdown",
      "metadata": {
        "execution": {},
        "id": "VMeAVuMIgYEu"
      },
      "source": [
        "[*Click for solution*](https://github.com/NeuromatchAcademy/course-content/tree/main/tutorials/W2D3_BiologicalNeuronModels/solutions/W2D3_Tutorial1_Solution_2de5d8a9.py)\n",
        "\n"
      ]
    },
    {
      "cell_type": "code",
      "execution_count": null,
      "metadata": {
        "cellView": "form",
        "execution": {},
        "id": "m2m1S4EIgYEu"
      },
      "outputs": [],
      "source": [
        "# @title Submit your feedback\n",
        "content_review(f\"{feedback_prefix}_Gaussian_White_Noise_Interactive_Demo_and_Discussion\")"
      ]
    },
    {
      "cell_type": "markdown",
      "metadata": {
        "execution": {},
        "id": "FJNS_3KfgYEu"
      },
      "source": [
        "### Think! 2.2: Analyzing GWN Effects on Spiking\n",
        "- As we increase the input average ($\\mu$) or the input fluctuation ($\\sigma$), the spike count changes. How much can we increase the spike count, and what might be the relationship between GWN mean/std or DC value and spike count?\n",
        "\n",
        "- We have seen above that when we inject DC, the neuron spikes in a regular manner (clock-like), and this regularity is reduced when GWN is injected. The question is, how irregular can we make the neurons spiking by changing the parameters of the GWN?\n",
        "\n",
        "We will see the answers to these questions in the next section but discuss first!\n"
      ]
    },
    {
      "cell_type": "code",
      "execution_count": null,
      "metadata": {
        "cellView": "form",
        "execution": {},
        "id": "MA4Bj4R5gYEu"
      },
      "outputs": [],
      "source": [
        "# @title Submit your feedback\n",
        "content_review(f\"{feedback_prefix}_Analyzing_GWN_effects_on_spiking_Discussion\")"
      ]
    },
    {
      "cell_type": "markdown",
      "metadata": {
        "execution": {},
        "id": "JidcFC44gYEu"
      },
      "source": [
        "---\n",
        "# Section 3: Firing rate and spike time irregularity\n",
        "\n",
        "*Estimated timing to here from start of tutorial: 48 min*\n",
        "\n",
        "When we plot the output firing rate as a function of GWN mean or DC value, it is called the input-output transfer function of the neuron (so simply F-I curve).\n",
        "\n",
        "Spike regularity can be quantified as the **coefficient of variation (CV) of the interspike interval (ISI)**:\n",
        "\n",
        "\\begin{equation}\n",
        "\\text{CV}_{\\text{ISI}} = \\frac{std(\\text{ISI})}{mean(\\text{ISI})}\n",
        "\\end{equation}\n",
        "\n",
        "A Poisson train is an example of high irregularity, in which $\\textbf{CV}_{\\textbf{ISI}} \\textbf{= 1}$. And for a clocklike (regular) process we have $\\textbf{CV}_{\\textbf{ISI}} \\textbf{= 0}$ because of **std(ISI)=0**."
      ]
    },
    {
      "cell_type": "markdown",
      "metadata": {
        "execution": {},
        "id": "-PzmucCIgYEu"
      },
      "source": [
        "## Interactive Demo 3A: F-I Explorer for different `sig_gwn`\n",
        "\n",
        "How does the F-I curve of the LIF neuron change as we increase the $\\sigma$ of the GWN? We can already expect that the F-I curve will be stochastic and the results will vary from one trial to another. But will there be any other change compared to the F-I curved measured using DC?\n",
        "\n",
        "Here's an interactive demo that shows how the F-I curve of a LIF neuron changes for different levels of fluctuation $\\sigma$.\n"
      ]
    },
    {
      "cell_type": "code",
      "execution_count": null,
      "metadata": {
        "cellView": "form",
        "execution": {},
        "id": "dxSnzvm2gYEu"
      },
      "outputs": [],
      "source": [
        "# @markdown Make sure you execute this cell to enable the widget!\n",
        "\n",
        "my_layout.width = '450px'\n",
        "@widgets.interact(\n",
        "    sig_gwn=widgets.FloatSlider(3.0, min=0., max=6., step=0.5,\n",
        "                                layout=my_layout)\n",
        ")\n",
        "\n",
        "\n",
        "def diff_std_affect_fI(sig_gwn):\n",
        "  pars = default_pars(T=1000.)\n",
        "  I_mean = np.arange(100., 400., 10.)\n",
        "  spk_count = np.zeros(len(I_mean))\n",
        "  spk_count_dc = np.zeros(len(I_mean))\n",
        "\n",
        "  for idx in range(len(I_mean)):\n",
        "      I_GWN = my_GWN(pars, mu=I_mean[idx], sig=sig_gwn, myseed=2020)\n",
        "      v, rec_spikes = run_LIF(pars, Iinj=I_GWN)\n",
        "      v_dc, rec_sp_dc = run_LIF(pars, Iinj=I_mean[idx])\n",
        "      spk_count[idx] = len(rec_spikes)\n",
        "      spk_count_dc[idx] = len(rec_sp_dc)\n",
        "\n",
        "  # Plot the F-I curve i.e. Output firing rate as a function of input mean.\n",
        "  plt.figure()\n",
        "  plt.plot(I_mean, spk_count, 'k',\n",
        "           label=r'$\\sigma_{\\mathrm{GWN}}=%.2f$' % sig_gwn)\n",
        "  plt.plot(I_mean, spk_count_dc, 'k--', alpha=0.5, lw=4, dashes=(2, 2),\n",
        "           label='DC input')\n",
        "  plt.ylabel('Spike count')\n",
        "  plt.xlabel('Average injected current (pA)')\n",
        "  plt.legend(loc='best')\n",
        "  plt.show()"
      ]
    },
    {
      "cell_type": "markdown",
      "metadata": {
        "execution": {},
        "id": "G2BWc9OVgYEu"
      },
      "source": [
        "[*Click for solution*](https://github.com/NeuromatchAcademy/course-content/tree/main/tutorials/W2D3_BiologicalNeuronModels/solutions/W2D3_Tutorial1_Solution_5aa4e3b0.py)\n",
        "\n"
      ]
    },
    {
      "cell_type": "code",
      "execution_count": null,
      "metadata": {
        "cellView": "form",
        "execution": {},
        "id": "9Wb5PL8MgYEu"
      },
      "outputs": [],
      "source": [
        "# @title Submit your feedback\n",
        "content_review(f\"{feedback_prefix}_F_I_explorer_Interactive_Demo_and_Discussion\")"
      ]
    },
    {
      "cell_type": "markdown",
      "metadata": {
        "execution": {},
        "id": "fhwN6NP_gYEy"
      },
      "source": [
        "## Coding Exercise 3: Compute $CV_{ISI}$ values\n",
        "\n",
        "As shown above, the F-I curve becomes smoother while increasing the amplitude of the fluctuation ($\\sigma$). In addition, the fluctuation can also change the irregularity of the spikes. Let's investigate the effect of $\\mu=250$ with $\\sigma=0.5$ vs $\\sigma=3$.\n",
        "\n",
        "Fill in the code below to compute ISI, then plot the histogram of the ISI and compute the $CV_{ISI}$. Note that, you can use `np.diff` to calculate ISI."
      ]
    },
    {
      "cell_type": "code",
      "execution_count": null,
      "metadata": {
        "execution": {},
        "id": "RJopVhcsgYEy"
      },
      "outputs": [],
      "source": [
        "def isi_cv_LIF(spike_times):\n",
        "  \"\"\"\n",
        "  Calculates the interspike intervals (isi) and\n",
        "  the coefficient of variation (cv) for a given spike_train\n",
        "\n",
        "  Args:\n",
        "    spike_times : (n, ) vector with the spike times (ndarray)\n",
        "\n",
        "  Returns:\n",
        "    isi         : (n-1,) vector with the inter-spike intervals (ms)\n",
        "    cv          : coefficient of variation of isi (float)\n",
        "\n",
        "  \"\"\"\n",
        "  ########################################################################\n",
        "  ## TODO for students: compute the membrane potential v, spike train sp #\n",
        "  # Fill out function and remove\n",
        "  raise NotImplementedError('Student Exercise: calculate the isi and the cv!')\n",
        "  ########################################################################\n",
        "  if len(spike_times) >= 2:\n",
        "    # Compute isi\n",
        "    isi = ...\n",
        "    # Compute cv\n",
        "    cv = ...\n",
        "  else:\n",
        "    isi = np.nan\n",
        "    cv = np.nan\n",
        "\n",
        "  return isi, cv\n",
        "\n",
        "\n",
        "# Set parameters\n",
        "pars = default_pars(T=1000.)\n",
        "mu_gwn = 250\n",
        "sig_gwn1 = 0.5\n",
        "sig_gwn2 = 3.0\n",
        "\n",
        "# Run LIF model for sigma = 0.5\n",
        "I_GWN1 = my_GWN(pars, mu=mu_gwn, sig=sig_gwn1, myseed=2020)\n",
        "_, sp1 = run_LIF(pars, Iinj=I_GWN1)\n",
        "\n",
        "# Run LIF model for sigma = 3\n",
        "I_GWN2 = my_GWN(pars, mu=mu_gwn, sig=sig_gwn2, myseed=2020)\n",
        "_, sp2 = run_LIF(pars, Iinj=I_GWN2)\n",
        "\n",
        "# Compute ISIs/CV\n",
        "isi1, cv1 = isi_cv_LIF(sp1)\n",
        "isi2, cv2 = isi_cv_LIF(sp2)\n",
        "\n",
        "# Visualize\n",
        "my_hists(isi1, isi2, cv1, cv2, sig_gwn1, sig_gwn2)"
      ]
    },
    {
      "cell_type": "markdown",
      "metadata": {
        "execution": {},
        "id": "vj9Ek1zLgYEy"
      },
      "source": [
        "[*Click for solution*](https://github.com/NeuromatchAcademy/course-content/tree/main/tutorials/W2D3_BiologicalNeuronModels/solutions/W2D3_Tutorial1_Solution_27d69c89.py)\n",
        "\n",
        "*Example output:*\n",
        "\n",
        "<img alt='Solution hint' align='left' width=1079.0 height=378.0 src=https://raw.githubusercontent.com/NeuromatchAcademy/course-content/main/tutorials/W2D3_BiologicalNeuronModels/static/W2D3_Tutorial1_Solution_27d69c89_0.png>\n",
        "\n"
      ]
    },
    {
      "cell_type": "code",
      "execution_count": null,
      "metadata": {
        "cellView": "form",
        "execution": {},
        "id": "G48lR_-AgYEy"
      },
      "outputs": [],
      "source": [
        "# @title Submit your feedback\n",
        "content_review(f\"{feedback_prefix}_Compute_CV_ISI_Exercise\")"
      ]
    },
    {
      "cell_type": "markdown",
      "metadata": {
        "execution": {},
        "id": "plvdNL1zgYEy"
      },
      "source": [
        "## Interactive Demo 3B: Spike irregularity explorer for different `sig_gwn`\n",
        "\n",
        "In the above illustration, we see that the CV of inter-spike-interval (ISI) distribution depends on $\\sigma$ of GWN. What about the mean of GWN, should that also affect the CV$_{\\rm ISI}$? If yes, how? Does the efficacy of $\\sigma$ in increasing the CV$_{\\rm ISI}$ depend on $\\mu$?\n",
        "\n",
        "In the following interactive demo, you will examine how different levels of fluctuation $\\sigma$ affect the CVs for different average injected currents ($\\mu$).\n",
        "\n",
        "1. Does the standard deviation of the injected current affect the F-I curve in any qualitative manner?\n",
        "2. Why does increasing the mean of GWN reduce the CV$_{\\rm ISI}$?\n",
        "3.  If you plot spike count (or rate) vs. CV$_{\\rm ISI}$, should there be a relationship between the two? Try out yourself."
      ]
    },
    {
      "cell_type": "code",
      "execution_count": null,
      "metadata": {
        "cellView": "form",
        "execution": {},
        "id": "E_VlBs8ugYEy"
      },
      "outputs": [],
      "source": [
        "# @markdown Make sure you execute this cell to enable the widget!\n",
        "\n",
        "my_layout.width = '450px'\n",
        "@widgets.interact(\n",
        "    sig_gwn=widgets.FloatSlider(0.0, min=0., max=10.,\n",
        "                                step=0.5, layout=my_layout)\n",
        ")\n",
        "\n",
        "\n",
        "def diff_std_affect_fI(sig_gwn):\n",
        "  pars = default_pars(T=1000.)\n",
        "  I_mean = np.arange(100., 400., 20)\n",
        "  spk_count = np.zeros(len(I_mean))\n",
        "  cv_isi = np.empty(len(I_mean))\n",
        "\n",
        "  for idx in range(len(I_mean)):\n",
        "    I_GWN = my_GWN(pars, mu=I_mean[idx], sig=sig_gwn)\n",
        "    v, rec_spikes = run_LIF(pars, Iinj=I_GWN)\n",
        "    spk_count[idx] = len(rec_spikes)\n",
        "    if len(rec_spikes) > 3:\n",
        "      isi = np.diff(rec_spikes)\n",
        "      cv_isi[idx] = np.std(isi) / np.mean(isi)\n",
        "\n",
        "  # Plot the F-I curve i.e. Output firing rate as a function of input mean.\n",
        "  plt.figure()\n",
        "  plt.plot(I_mean[spk_count > 5], cv_isi[spk_count > 5], 'bo', alpha=0.5)\n",
        "  plt.xlabel('Average injected current (pA)')\n",
        "  plt.ylabel(r'Spike irregularity ($\\mathrm{CV}_\\mathrm{ISI}$)')\n",
        "  plt.ylim(-0.1, 1.5)\n",
        "  plt.grid(True)\n",
        "  plt.show()"
      ]
    },
    {
      "cell_type": "markdown",
      "metadata": {
        "execution": {},
        "id": "dQ1gZ3iBgYEy"
      },
      "source": [
        "[*Click for solution*](https://github.com/NeuromatchAcademy/course-content/tree/main/tutorials/W2D3_BiologicalNeuronModels/solutions/W2D3_Tutorial1_Solution_c6f1c4a2.py)\n",
        "\n"
      ]
    },
    {
      "cell_type": "code",
      "execution_count": null,
      "metadata": {
        "cellView": "form",
        "execution": {},
        "id": "D8UEuNyngYEy"
      },
      "outputs": [],
      "source": [
        "# @title Submit your feedback\n",
        "content_review(f\"{feedback_prefix}_Spike_Irregularity_Interactive_Demo_and_Discussion\")"
      ]
    },
    {
      "cell_type": "markdown",
      "metadata": {
        "execution": {},
        "id": "L0Jfs_ODgYEy"
      },
      "source": [
        "---\n",
        "# Summary\n",
        "\n",
        "*Estimated timing of tutorial: 1 hour, 10 min*\n",
        "\n",
        "Congratulations! You've just built a leaky integrate-and-fire (LIF) neuron model from scratch, and studied its dynamics in response to various types of inputs, having:\n",
        "\n",
        "- simulated the LIF neuron model\n",
        "\n",
        "- driven the LIF neuron with external inputs, such as direct current and Gaussian white noise\n",
        "\n",
        "- studied how different inputs affect the  LIF neuron's output (firing rate and spike time irregularity),\n",
        "\n",
        "with a special focus on low rate and irregular firing regime to mimic real cortical neurons. The next tutorial will look at how spiking statistics may be influenced by a neuron's input statistics.\n",
        "\n",
        "If you have extra time, look at the bonus sections below to explore a different type of noise input and learn about extensions to integrate-and-fire models.\n"
      ]
    },
    {
      "cell_type": "markdown",
      "metadata": {
        "execution": {},
        "id": "pa9sgvtjgYEz"
      },
      "source": [
        "---\n",
        "# Bonus"
      ]
    },
    {
      "cell_type": "markdown",
      "metadata": {
        "execution": {},
        "id": "RxQft4lpgYEz"
      },
      "source": [
        "## Bonus Section 1: Ornstein-Uhlenbeck Process\n",
        "\n",
        "When a neuron receives spiking input, the synaptic current is Shot Noise -- which is a kind of colored noise and the spectrum of the noise determined by the synaptic kernel time constant. That is, a neuron is driven by **colored noise** and not GWN.\n",
        "\n",
        "We can model colored noise using the Ornstein-Uhlenbeck process - filtered white noise."
      ]
    },
    {
      "cell_type": "markdown",
      "metadata": {
        "execution": {},
        "id": "5HBshe6YgYEz"
      },
      "source": [
        "We next study if the input current is temporally correlated and is modeled as an Ornstein-Uhlenbeck process $\\eta(t)$, i.e., low-pass filtered GWN with a time constant $\\tau_{\\eta}$:\n",
        "\n",
        "\\begin{equation}\n",
        "\\tau_\\eta \\frac{d}{dt}\\eta(t) = \\mu-\\eta(t) + \\sigma_\\eta\\sqrt{2\\tau_\\eta}\\xi(t)\n",
        "\\end{equation}\n",
        "\n",
        "**Hint:** An OU process as defined above has\n",
        "\n",
        "\\begin{equation}\n",
        "\\mathbb{E}[\\eta(t)]=\\mu\n",
        "\\end{equation}\n",
        "\n",
        "and autocovariance\n",
        "\n",
        "\\begin{equation}\n",
        "[\\eta(t)\\eta(t+\\tau)]=\\sigma_\\eta^2e^{-|t-\\tau|/\\tau_\\eta}\n",
        "\\end{equation}\n",
        "\n",
        "which can be used to check your code."
      ]
    },
    {
      "cell_type": "code",
      "execution_count": null,
      "metadata": {
        "cellView": "form",
        "execution": {},
        "id": "8bTSS0shgYEz"
      },
      "outputs": [],
      "source": [
        "# @markdown Execute this cell to get helper function `my_OU`\n",
        "\n",
        "\n",
        "def my_OU(pars, mu, sig, myseed=False):\n",
        "  \"\"\"\n",
        "  Function that produces Ornstein-Uhlenbeck input\n",
        "\n",
        "  Args:\n",
        "    pars       : parameter dictionary\n",
        "    sig        : noise amplitute\n",
        "    myseed     : random seed. int or boolean\n",
        "\n",
        "  Returns:\n",
        "    I_ou       : Ornstein-Uhlenbeck input current\n",
        "  \"\"\"\n",
        "\n",
        "  # Retrieve simulation parameters\n",
        "  dt, range_t = pars['dt'], pars['range_t']\n",
        "  Lt = range_t.size\n",
        "  tau_ou = pars['tau_ou']  # [ms]\n",
        "\n",
        "  # set random seed\n",
        "  if myseed:\n",
        "    np.random.seed(seed=myseed)\n",
        "  else:\n",
        "    np.random.seed()\n",
        "\n",
        "  # Initialize\n",
        "  noise = np.random.randn(Lt)\n",
        "  I_ou = np.zeros(Lt)\n",
        "  I_ou[0] = noise[0] * sig\n",
        "\n",
        "  # generate OU\n",
        "  for it in range(Lt-1):\n",
        "    I_ou[it+1] = I_ou[it] + (dt / tau_ou) * (mu - I_ou[it]) + np.sqrt(2 * dt / tau_ou) * sig * noise[it + 1]\n",
        "\n",
        "  return I_ou\n",
        "\n",
        "\n",
        "help(my_OU)"
      ]
    },
    {
      "cell_type": "markdown",
      "metadata": {
        "execution": {},
        "id": "5oDT3RawgYEz"
      },
      "source": [
        "### Bonus Interactive Demo 1: LIF Explorer with OU input\n",
        "In the following, we will check how a neuron responds to a noisy current that follows the statistics of an OU process.\n",
        "\n",
        "-  How does the OU type input change neuron responsiveness?\n",
        "-  What do you think will happen to the spike pattern and rate if you increased or decreased the time constant of the OU process?"
      ]
    },
    {
      "cell_type": "code",
      "execution_count": null,
      "metadata": {
        "cellView": "form",
        "execution": {},
        "id": "OhiqaNIhgYEz"
      },
      "outputs": [],
      "source": [
        "# @markdown Remember to enable the widget by running the cell!\n",
        "\n",
        "my_layout.width = '450px'\n",
        "@widgets.interact(\n",
        "  tau_ou=widgets.FloatSlider(10.0, min=5., max=20.,\n",
        "                             step=2.5, layout=my_layout),\n",
        "  sig_ou=widgets.FloatSlider(10.0, min=5., max=40.,\n",
        "                             step=2.5, layout=my_layout),\n",
        "  mu_ou=widgets.FloatSlider(190.0, min=180., max=220.,\n",
        "                            step=2.5, layout=my_layout)\n",
        ")\n",
        "\n",
        "\n",
        "def LIF_with_OU(tau_ou=10., sig_ou=40., mu_ou=200.):\n",
        "  pars = default_pars(T=1000.)\n",
        "  pars['tau_ou'] = tau_ou  # [ms]\n",
        "\n",
        "  I_ou = my_OU(pars, mu_ou, sig_ou)\n",
        "  v, sp = run_LIF(pars, Iinj=I_ou)\n",
        "\n",
        "  plt.figure(figsize=(12, 4))\n",
        "  plt.subplot(121)\n",
        "  plt.plot(pars['range_t'], I_ou, 'b', lw=1.0)\n",
        "  plt.xlabel('Time (ms)')\n",
        "  plt.ylabel(r'$I_{\\mathrm{OU}}$ (pA)')\n",
        "  plt.subplot(122)\n",
        "  plot_volt_trace(pars, v, sp)\n",
        "  plt.tight_layout()\n",
        "  plt.show()"
      ]
    },
    {
      "cell_type": "markdown",
      "metadata": {
        "execution": {},
        "id": "t1UXdsvFgYEz"
      },
      "source": [
        "[*Click for solution*](https://github.com/NeuromatchAcademy/course-content/tree/main/tutorials/W2D3_BiologicalNeuronModels/solutions/W2D3_Tutorial1_Solution_a0f797af.py)\n",
        "\n"
      ]
    },
    {
      "cell_type": "code",
      "execution_count": null,
      "metadata": {
        "cellView": "form",
        "execution": {},
        "id": "yZfxWIQmgYEz"
      },
      "outputs": [],
      "source": [
        "# @title Submit your feedback\n",
        "content_review(f\"{feedback_prefix}_LIF_explorer_with_OU_input_Bonus_Interactive_Demo_and_Discussion\")"
      ]
    },
    {
      "cell_type": "markdown",
      "metadata": {
        "execution": {},
        "id": "VWztxELggYEz"
      },
      "source": [
        "## Bonus Section 2: Generalized Integrate-and-Fire models\n",
        "\n",
        "LIF model is not the only abstraction of real neurons. If you want to learn about more realistic types of neuronal models, watch the Bonus Video!"
      ]
    },
    {
      "cell_type": "code",
      "execution_count": null,
      "metadata": {
        "cellView": "form",
        "execution": {},
        "id": "Ow57l2kCgYEz"
      },
      "outputs": [],
      "source": [
        "# @title Video 3 (Bonus): Extensions to Integrate-and-Fire models\n",
        "from ipywidgets import widgets\n",
        "from IPython.display import YouTubeVideo\n",
        "from IPython.display import IFrame\n",
        "from IPython.display import display\n",
        "\n",
        "\n",
        "class PlayVideo(IFrame):\n",
        "  def __init__(self, id, source, page=1, width=400, height=300, **kwargs):\n",
        "    self.id = id\n",
        "    if source == 'Bilibili':\n",
        "      src = f'https://player.bilibili.com/player.html?bvid={id}&page={page}'\n",
        "    elif source == 'Osf':\n",
        "      src = f'https://mfr.ca-1.osf.io/render?url=https://osf.io/download/{id}/?direct%26mode=render'\n",
        "    super(PlayVideo, self).__init__(src, width, height, **kwargs)\n",
        "\n",
        "\n",
        "def display_videos(video_ids, W=400, H=300, fs=1):\n",
        "  tab_contents = []\n",
        "  for i, video_id in enumerate(video_ids):\n",
        "    out = widgets.Output()\n",
        "    with out:\n",
        "      if video_ids[i][0] == 'Youtube':\n",
        "        video = YouTubeVideo(id=video_ids[i][1], width=W,\n",
        "                             height=H, fs=fs, rel=0)\n",
        "        print(f'Video available at https://youtube.com/watch?v={video.id}')\n",
        "      else:\n",
        "        video = PlayVideo(id=video_ids[i][1], source=video_ids[i][0], width=W,\n",
        "                          height=H, fs=fs, autoplay=False)\n",
        "        if video_ids[i][0] == 'Bilibili':\n",
        "          print(f'Video available at https://www.bilibili.com/video/{video.id}')\n",
        "        elif video_ids[i][0] == 'Osf':\n",
        "          print(f'Video available at https://osf.io/{video.id}')\n",
        "      display(video)\n",
        "    tab_contents.append(out)\n",
        "  return tab_contents\n",
        "\n",
        "\n",
        "video_ids = [('Youtube', 'G0b6wLhuQxE'), ('Bilibili', 'BV1c54y1B7d7')]\n",
        "tab_contents = display_videos(video_ids, W=854, H=480)\n",
        "tabs = widgets.Tab()\n",
        "tabs.children = tab_contents\n",
        "for i in range(len(tab_contents)):\n",
        "  tabs.set_title(i, video_ids[i][0])\n",
        "display(tabs)"
      ]
    },
    {
      "cell_type": "code",
      "execution_count": null,
      "metadata": {
        "cellView": "form",
        "execution": {},
        "id": "R1IEu92KgYEz"
      },
      "outputs": [],
      "source": [
        "# @title Submit your feedback\n",
        "content_review(f\"{feedback_prefix}_Extension_to_Integrate_and_Fire_Bonus_Video\")"
      ]
    }
  ],
  "metadata": {
    "colab": {
      "name": "W2D3_Tutorial1",
      "provenance": [],
      "toc_visible": true,
      "include_colab_link": true
    },
    "kernel": {
      "display_name": "Python 3",
      "language": "python",
      "name": "python3"
    },
    "kernelspec": {
      "display_name": "Python 3",
      "name": "python3"
    },
    "language_info": {
      "codemirror_mode": {
        "name": "ipython",
        "version": 3
      },
      "file_extension": ".py",
      "mimetype": "text/x-python",
      "name": "python",
      "nbconvert_exporter": "python",
      "pygments_lexer": "ipython3",
      "version": "3.9.17"
    },
    "widgets": {
      "application/vnd.jupyter.widget-state+json": {
        "2c72e1c370d046689e43b9f79ea9e6c0": {
          "model_module": "@jupyter-widgets/controls",
          "model_name": "TabModel",
          "model_module_version": "1.5.0",
          "state": {
            "_dom_classes": [],
            "_model_module": "@jupyter-widgets/controls",
            "_model_module_version": "1.5.0",
            "_model_name": "TabModel",
            "_titles": {
              "0": "Youtube",
              "1": "Bilibili"
            },
            "_view_count": null,
            "_view_module": "@jupyter-widgets/controls",
            "_view_module_version": "1.5.0",
            "_view_name": "TabView",
            "box_style": "",
            "children": [
              "IPY_MODEL_e3673bf1d05e41aeb3be286c62093c74",
              "IPY_MODEL_0e354496cbe14769bdb2a3fe6ad5ee51"
            ],
            "layout": "IPY_MODEL_bbb7ddb971034ba9b36636560bc33d6d",
            "selected_index": 0
          }
        },
        "e3673bf1d05e41aeb3be286c62093c74": {
          "model_module": "@jupyter-widgets/output",
          "model_name": "OutputModel",
          "model_module_version": "1.0.0",
          "state": {
            "_dom_classes": [],
            "_model_module": "@jupyter-widgets/output",
            "_model_module_version": "1.0.0",
            "_model_name": "OutputModel",
            "_view_count": null,
            "_view_module": "@jupyter-widgets/output",
            "_view_module_version": "1.0.0",
            "_view_name": "OutputView",
            "layout": "IPY_MODEL_405926ea7728411f9edd5e33be6f1217",
            "msg_id": "",
            "outputs": [
              {
                "output_type": "stream",
                "name": "stdout",
                "text": [
                  "Video available at https://youtube.com/watch?v=rSExvwCVRYg\n"
                ]
              },
              {
                "output_type": "display_data",
                "data": {
                  "text/plain": "<IPython.lib.display.YouTubeVideo at 0x789c0553c9a0>",
                  "text/html": "\n        <iframe\n            width=\"854\"\n            height=\"480\"\n            src=\"https://www.youtube.com/embed/rSExvwCVRYg?fs=1&rel=0\"\n            frameborder=\"0\"\n            allowfullscreen\n            \n        ></iframe>\n        ",
                  "image/jpeg": "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\n"
                },
                "metadata": {}
              }
            ]
          }
        },
        "0e354496cbe14769bdb2a3fe6ad5ee51": {
          "model_module": "@jupyter-widgets/output",
          "model_name": "OutputModel",
          "model_module_version": "1.0.0",
          "state": {
            "_dom_classes": [],
            "_model_module": "@jupyter-widgets/output",
            "_model_module_version": "1.0.0",
            "_model_name": "OutputModel",
            "_view_count": null,
            "_view_module": "@jupyter-widgets/output",
            "_view_module_version": "1.0.0",
            "_view_name": "OutputView",
            "layout": "IPY_MODEL_b928cbbe35d94702b24f07cc11b818d3",
            "msg_id": "",
            "outputs": [
              {
                "output_type": "stream",
                "name": "stdout",
                "text": [
                  "Video available at https://www.bilibili.com/video/BV1m5411h7Jv\n"
                ]
              },
              {
                "output_type": "display_data",
                "data": {
                  "text/plain": "<__main__.PlayVideo at 0x789c0553f8b0>",
                  "text/html": "\n        <iframe\n            width=\"854\"\n            height=\"480\"\n            src=\"https://player.bilibili.com/player.html?bvid=BV1m5411h7Jv&page=1?fs=1&autoplay=False\"\n            frameborder=\"0\"\n            allowfullscreen\n            \n        ></iframe>\n        "
                },
                "metadata": {}
              }
            ]
          }
        },
        "bbb7ddb971034ba9b36636560bc33d6d": {
          "model_module": "@jupyter-widgets/base",
          "model_name": "LayoutModel",
          "model_module_version": "1.2.0",
          "state": {
            "_model_module": "@jupyter-widgets/base",
            "_model_module_version": "1.2.0",
            "_model_name": "LayoutModel",
            "_view_count": null,
            "_view_module": "@jupyter-widgets/base",
            "_view_module_version": "1.2.0",
            "_view_name": "LayoutView",
            "align_content": null,
            "align_items": null,
            "align_self": null,
            "border": null,
            "bottom": null,
            "display": null,
            "flex": null,
            "flex_flow": null,
            "grid_area": null,
            "grid_auto_columns": null,
            "grid_auto_flow": null,
            "grid_auto_rows": null,
            "grid_column": null,
            "grid_gap": null,
            "grid_row": null,
            "grid_template_areas": null,
            "grid_template_columns": null,
            "grid_template_rows": null,
            "height": null,
            "justify_content": null,
            "justify_items": null,
            "left": null,
            "margin": null,
            "max_height": null,
            "max_width": null,
            "min_height": null,
            "min_width": null,
            "object_fit": null,
            "object_position": null,
            "order": null,
            "overflow": null,
            "overflow_x": null,
            "overflow_y": null,
            "padding": null,
            "right": null,
            "top": null,
            "visibility": null,
            "width": null
          }
        },
        "405926ea7728411f9edd5e33be6f1217": {
          "model_module": "@jupyter-widgets/base",
          "model_name": "LayoutModel",
          "model_module_version": "1.2.0",
          "state": {
            "_model_module": "@jupyter-widgets/base",
            "_model_module_version": "1.2.0",
            "_model_name": "LayoutModel",
            "_view_count": null,
            "_view_module": "@jupyter-widgets/base",
            "_view_module_version": "1.2.0",
            "_view_name": "LayoutView",
            "align_content": null,
            "align_items": null,
            "align_self": null,
            "border": null,
            "bottom": null,
            "display": null,
            "flex": null,
            "flex_flow": null,
            "grid_area": null,
            "grid_auto_columns": null,
            "grid_auto_flow": null,
            "grid_auto_rows": null,
            "grid_column": null,
            "grid_gap": null,
            "grid_row": null,
            "grid_template_areas": null,
            "grid_template_columns": null,
            "grid_template_rows": null,
            "height": null,
            "justify_content": null,
            "justify_items": null,
            "left": null,
            "margin": null,
            "max_height": null,
            "max_width": null,
            "min_height": null,
            "min_width": null,
            "object_fit": null,
            "object_position": null,
            "order": null,
            "overflow": null,
            "overflow_x": null,
            "overflow_y": null,
            "padding": null,
            "right": null,
            "top": null,
            "visibility": null,
            "width": null
          }
        },
        "b928cbbe35d94702b24f07cc11b818d3": {
          "model_module": "@jupyter-widgets/base",
          "model_name": "LayoutModel",
          "model_module_version": "1.2.0",
          "state": {
            "_model_module": "@jupyter-widgets/base",
            "_model_module_version": "1.2.0",
            "_model_name": "LayoutModel",
            "_view_count": null,
            "_view_module": "@jupyter-widgets/base",
            "_view_module_version": "1.2.0",
            "_view_name": "LayoutView",
            "align_content": null,
            "align_items": null,
            "align_self": null,
            "border": null,
            "bottom": null,
            "display": null,
            "flex": null,
            "flex_flow": null,
            "grid_area": null,
            "grid_auto_columns": null,
            "grid_auto_flow": null,
            "grid_auto_rows": null,
            "grid_column": null,
            "grid_gap": null,
            "grid_row": null,
            "grid_template_areas": null,
            "grid_template_columns": null,
            "grid_template_rows": null,
            "height": null,
            "justify_content": null,
            "justify_items": null,
            "left": null,
            "margin": null,
            "max_height": null,
            "max_width": null,
            "min_height": null,
            "min_width": null,
            "object_fit": null,
            "object_position": null,
            "order": null,
            "overflow": null,
            "overflow_x": null,
            "overflow_y": null,
            "padding": null,
            "right": null,
            "top": null,
            "visibility": null,
            "width": null
          }
        },
        "01e07d863f63443499064fe2115f6ee8": {
          "model_module": "@jupyter-widgets/controls",
          "model_name": "VBoxModel",
          "model_module_version": "1.5.0",
          "state": {
            "_dom_classes": [],
            "_model_module": "@jupyter-widgets/controls",
            "_model_module_version": "1.5.0",
            "_model_name": "VBoxModel",
            "_view_count": null,
            "_view_module": "@jupyter-widgets/controls",
            "_view_module_version": "1.5.0",
            "_view_name": "VBoxView",
            "box_style": "",
            "children": [
              "IPY_MODEL_031ae03a56fd4067814cd4c1ad2831c3"
            ],
            "layout": "IPY_MODEL_25b738716537448fa2bd478a81082a10"
          }
        },
        "031ae03a56fd4067814cd4c1ad2831c3": {
          "model_module": "@jupyter-widgets/controls",
          "model_name": "VBoxModel",
          "model_module_version": "1.5.0",
          "state": {
            "_dom_classes": [],
            "_model_module": "@jupyter-widgets/controls",
            "_model_module_version": "1.5.0",
            "_model_name": "VBoxModel",
            "_view_count": null,
            "_view_module": "@jupyter-widgets/controls",
            "_view_module_version": "1.5.0",
            "_view_name": "VBoxView",
            "box_style": "",
            "children": [
              "IPY_MODEL_1f0aa29a4d8e434d9db10aaaecaa905a",
              "IPY_MODEL_bdc7e533ba8b4f91b155fa8a9008da86",
              "IPY_MODEL_6a080f62399e4ded802ceed26bea3304"
            ],
            "layout": "IPY_MODEL_364a8f72f6b24299996a8475706b9692"
          }
        },
        "25b738716537448fa2bd478a81082a10": {
          "model_module": "@jupyter-widgets/base",
          "model_name": "LayoutModel",
          "model_module_version": "1.2.0",
          "state": {
            "_model_module": "@jupyter-widgets/base",
            "_model_module_version": "1.2.0",
            "_model_name": "LayoutModel",
            "_view_count": null,
            "_view_module": "@jupyter-widgets/base",
            "_view_module_version": "1.2.0",
            "_view_name": "LayoutView",
            "align_content": null,
            "align_items": null,
            "align_self": null,
            "border": null,
            "bottom": null,
            "display": null,
            "flex": null,
            "flex_flow": null,
            "grid_area": null,
            "grid_auto_columns": null,
            "grid_auto_flow": null,
            "grid_auto_rows": null,
            "grid_column": null,
            "grid_gap": null,
            "grid_row": null,
            "grid_template_areas": null,
            "grid_template_columns": null,
            "grid_template_rows": null,
            "height": null,
            "justify_content": null,
            "justify_items": null,
            "left": null,
            "margin": null,
            "max_height": null,
            "max_width": null,
            "min_height": null,
            "min_width": null,
            "object_fit": null,
            "object_position": null,
            "order": null,
            "overflow": null,
            "overflow_x": null,
            "overflow_y": null,
            "padding": null,
            "right": null,
            "top": null,
            "visibility": null,
            "width": null
          }
        },
        "1f0aa29a4d8e434d9db10aaaecaa905a": {
          "model_module": "@jupyter-widgets/controls",
          "model_name": "HBoxModel",
          "model_module_version": "1.5.0",
          "state": {
            "_dom_classes": [],
            "_model_module": "@jupyter-widgets/controls",
            "_model_module_version": "1.5.0",
            "_model_name": "HBoxModel",
            "_view_count": null,
            "_view_module": "@jupyter-widgets/controls",
            "_view_module_version": "1.5.0",
            "_view_name": "HBoxView",
            "box_style": "",
            "children": [
              "IPY_MODEL_19bac05c496143858eec182f65b9efd4",
              "IPY_MODEL_902dbefc50c64a95a687843b0667cf61",
              "IPY_MODEL_a7e6a236641d4bb28f454a1d168afcc1"
            ],
            "layout": "IPY_MODEL_e2310060742d4ac69a797d365bd8e34f"
          }
        },
        "bdc7e533ba8b4f91b155fa8a9008da86": {
          "model_module": "@jupyter-widgets/controls",
          "model_name": "HBoxModel",
          "model_module_version": "1.5.0",
          "state": {
            "_dom_classes": [],
            "_model_module": "@jupyter-widgets/controls",
            "_model_module_version": "1.5.0",
            "_model_name": "HBoxModel",
            "_view_count": null,
            "_view_module": "@jupyter-widgets/controls",
            "_view_module_version": "1.5.0",
            "_view_name": "HBoxView",
            "box_style": "",
            "children": [
              "IPY_MODEL_92f8499b2ffa4c38800cfa67126f07f3",
              "IPY_MODEL_79fe8bd0a8d147b0a911ad4e9d68f5f2"
            ],
            "layout": "IPY_MODEL_f16886a8628240bf914879e12768e387"
          }
        },
        "6a080f62399e4ded802ceed26bea3304": {
          "model_module": "@jupyter-widgets/controls",
          "model_name": "LabelModel",
          "model_module_version": "1.5.0",
          "state": {
            "_dom_classes": [],
            "_model_module": "@jupyter-widgets/controls",
            "_model_module_version": "1.5.0",
            "_model_name": "LabelModel",
            "_view_count": null,
            "_view_module": "@jupyter-widgets/controls",
            "_view_module_version": "1.5.0",
            "_view_name": "LabelView",
            "description": "",
            "description_tooltip": null,
            "layout": "IPY_MODEL_24401902b30a4a8dad9140c14f5d7647",
            "placeholder": "​",
            "style": "IPY_MODEL_e2ffc33402134d5caae8ecf8ac7cc9b5",
            "value": "Thanks for your feedback!"
          }
        },
        "364a8f72f6b24299996a8475706b9692": {
          "model_module": "@jupyter-widgets/base",
          "model_name": "LayoutModel",
          "model_module_version": "1.2.0",
          "state": {
            "_model_module": "@jupyter-widgets/base",
            "_model_module_version": "1.2.0",
            "_model_name": "LayoutModel",
            "_view_count": null,
            "_view_module": "@jupyter-widgets/base",
            "_view_module_version": "1.2.0",
            "_view_name": "LayoutView",
            "align_content": null,
            "align_items": null,
            "align_self": null,
            "border": null,
            "bottom": null,
            "display": null,
            "flex": null,
            "flex_flow": null,
            "grid_area": null,
            "grid_auto_columns": null,
            "grid_auto_flow": null,
            "grid_auto_rows": null,
            "grid_column": null,
            "grid_gap": null,
            "grid_row": null,
            "grid_template_areas": null,
            "grid_template_columns": null,
            "grid_template_rows": null,
            "height": null,
            "justify_content": null,
            "justify_items": null,
            "left": null,
            "margin": null,
            "max_height": null,
            "max_width": null,
            "min_height": null,
            "min_width": null,
            "object_fit": null,
            "object_position": null,
            "order": null,
            "overflow": null,
            "overflow_x": null,
            "overflow_y": null,
            "padding": null,
            "right": null,
            "top": null,
            "visibility": null,
            "width": null
          }
        },
        "19bac05c496143858eec182f65b9efd4": {
          "model_module": "@jupyter-widgets/controls",
          "model_name": "ButtonModel",
          "model_module_version": "1.5.0",
          "state": {
            "_dom_classes": [
              "happy"
            ],
            "_model_module": "@jupyter-widgets/controls",
            "_model_module_version": "1.5.0",
            "_model_name": "ButtonModel",
            "_view_count": null,
            "_view_module": "@jupyter-widgets/controls",
            "_view_module_version": "1.5.0",
            "_view_name": "ButtonView",
            "button_style": "",
            "description": "🙂",
            "disabled": false,
            "icon": "",
            "layout": "IPY_MODEL_5aa7421391d64a02b933449321f14c14",
            "style": "IPY_MODEL_962e1faff0674f3eb78c8cd36e29f24d",
            "tooltip": "happy"
          }
        },
        "902dbefc50c64a95a687843b0667cf61": {
          "model_module": "@jupyter-widgets/controls",
          "model_name": "ButtonModel",
          "model_module_version": "1.5.0",
          "state": {
            "_dom_classes": [
              "medium"
            ],
            "_model_module": "@jupyter-widgets/controls",
            "_model_module_version": "1.5.0",
            "_model_name": "ButtonModel",
            "_view_count": null,
            "_view_module": "@jupyter-widgets/controls",
            "_view_module_version": "1.5.0",
            "_view_name": "ButtonView",
            "button_style": "",
            "description": "😐",
            "disabled": false,
            "icon": "",
            "layout": "IPY_MODEL_388891b4e8744c09b26d9e4826fd540a",
            "style": "IPY_MODEL_fe53081648644c9b900432c1597c6607",
            "tooltip": "medium"
          }
        },
        "a7e6a236641d4bb28f454a1d168afcc1": {
          "model_module": "@jupyter-widgets/controls",
          "model_name": "ButtonModel",
          "model_module_version": "1.5.0",
          "state": {
            "_dom_classes": [
              "sad"
            ],
            "_model_module": "@jupyter-widgets/controls",
            "_model_module_version": "1.5.0",
            "_model_name": "ButtonModel",
            "_view_count": null,
            "_view_module": "@jupyter-widgets/controls",
            "_view_module_version": "1.5.0",
            "_view_name": "ButtonView",
            "button_style": "",
            "description": "🙁",
            "disabled": false,
            "icon": "",
            "layout": "IPY_MODEL_4dbb9815802f4e37b74824c5479e21b3",
            "style": "IPY_MODEL_25eabfb342144b87a42b2706e77543b1",
            "tooltip": "sad"
          }
        },
        "e2310060742d4ac69a797d365bd8e34f": {
          "model_module": "@jupyter-widgets/base",
          "model_name": "LayoutModel",
          "model_module_version": "1.2.0",
          "state": {
            "_model_module": "@jupyter-widgets/base",
            "_model_module_version": "1.2.0",
            "_model_name": "LayoutModel",
            "_view_count": null,
            "_view_module": "@jupyter-widgets/base",
            "_view_module_version": "1.2.0",
            "_view_name": "LayoutView",
            "align_content": null,
            "align_items": null,
            "align_self": null,
            "border": null,
            "bottom": null,
            "display": null,
            "flex": null,
            "flex_flow": null,
            "grid_area": null,
            "grid_auto_columns": null,
            "grid_auto_flow": null,
            "grid_auto_rows": null,
            "grid_column": null,
            "grid_gap": null,
            "grid_row": null,
            "grid_template_areas": null,
            "grid_template_columns": null,
            "grid_template_rows": null,
            "height": null,
            "justify_content": null,
            "justify_items": null,
            "left": null,
            "margin": null,
            "max_height": null,
            "max_width": null,
            "min_height": null,
            "min_width": null,
            "object_fit": null,
            "object_position": null,
            "order": null,
            "overflow": null,
            "overflow_x": null,
            "overflow_y": null,
            "padding": null,
            "right": null,
            "top": null,
            "visibility": null,
            "width": null
          }
        },
        "92f8499b2ffa4c38800cfa67126f07f3": {
          "model_module": "@jupyter-widgets/controls",
          "model_name": "TextareaModel",
          "model_module_version": "1.5.0",
          "state": {
            "_dom_classes": [],
            "_model_module": "@jupyter-widgets/controls",
            "_model_module_version": "1.5.0",
            "_model_name": "TextareaModel",
            "_view_count": null,
            "_view_module": "@jupyter-widgets/controls",
            "_view_module_version": "1.5.0",
            "_view_name": "TextareaView",
            "continuous_update": true,
            "description": "",
            "description_tooltip": null,
            "disabled": false,
            "layout": "IPY_MODEL_ba26d4a79fae4af89ded8cafbc2914c6",
            "placeholder": "We want your feedback!",
            "rows": null,
            "style": "IPY_MODEL_b8739da341074247b7c52fef89d4c2bb",
            "value": ""
          }
        },
        "79fe8bd0a8d147b0a911ad4e9d68f5f2": {
          "model_module": "@jupyter-widgets/controls",
          "model_name": "ButtonModel",
          "model_module_version": "1.5.0",
          "state": {
            "_dom_classes": [],
            "_model_module": "@jupyter-widgets/controls",
            "_model_module_version": "1.5.0",
            "_model_name": "ButtonModel",
            "_view_count": null,
            "_view_module": "@jupyter-widgets/controls",
            "_view_module_version": "1.5.0",
            "_view_name": "ButtonView",
            "button_style": "",
            "description": "Submit",
            "disabled": false,
            "icon": "",
            "layout": "IPY_MODEL_4afa6640759d49a99fb1b895a12502ec",
            "style": "IPY_MODEL_13b49e48769b4604bb0c320b761f58ae",
            "tooltip": ""
          }
        },
        "f16886a8628240bf914879e12768e387": {
          "model_module": "@jupyter-widgets/base",
          "model_name": "LayoutModel",
          "model_module_version": "1.2.0",
          "state": {
            "_model_module": "@jupyter-widgets/base",
            "_model_module_version": "1.2.0",
            "_model_name": "LayoutModel",
            "_view_count": null,
            "_view_module": "@jupyter-widgets/base",
            "_view_module_version": "1.2.0",
            "_view_name": "LayoutView",
            "align_content": null,
            "align_items": null,
            "align_self": null,
            "border": null,
            "bottom": null,
            "display": "none",
            "flex": null,
            "flex_flow": null,
            "grid_area": null,
            "grid_auto_columns": null,
            "grid_auto_flow": null,
            "grid_auto_rows": null,
            "grid_column": null,
            "grid_gap": null,
            "grid_row": null,
            "grid_template_areas": null,
            "grid_template_columns": null,
            "grid_template_rows": null,
            "height": null,
            "justify_content": null,
            "justify_items": null,
            "left": null,
            "margin": null,
            "max_height": null,
            "max_width": null,
            "min_height": null,
            "min_width": null,
            "object_fit": null,
            "object_position": null,
            "order": null,
            "overflow": null,
            "overflow_x": null,
            "overflow_y": null,
            "padding": null,
            "right": null,
            "top": null,
            "visibility": null,
            "width": null
          }
        },
        "24401902b30a4a8dad9140c14f5d7647": {
          "model_module": "@jupyter-widgets/base",
          "model_name": "LayoutModel",
          "model_module_version": "1.2.0",
          "state": {
            "_model_module": "@jupyter-widgets/base",
            "_model_module_version": "1.2.0",
            "_model_name": "LayoutModel",
            "_view_count": null,
            "_view_module": "@jupyter-widgets/base",
            "_view_module_version": "1.2.0",
            "_view_name": "LayoutView",
            "align_content": null,
            "align_items": null,
            "align_self": null,
            "border": null,
            "bottom": null,
            "display": "none",
            "flex": null,
            "flex_flow": null,
            "grid_area": null,
            "grid_auto_columns": null,
            "grid_auto_flow": null,
            "grid_auto_rows": null,
            "grid_column": null,
            "grid_gap": null,
            "grid_row": null,
            "grid_template_areas": null,
            "grid_template_columns": null,
            "grid_template_rows": null,
            "height": null,
            "justify_content": null,
            "justify_items": null,
            "left": null,
            "margin": null,
            "max_height": null,
            "max_width": null,
            "min_height": null,
            "min_width": null,
            "object_fit": null,
            "object_position": null,
            "order": null,
            "overflow": null,
            "overflow_x": null,
            "overflow_y": null,
            "padding": null,
            "right": null,
            "top": null,
            "visibility": null,
            "width": null
          }
        },
        "e2ffc33402134d5caae8ecf8ac7cc9b5": {
          "model_module": "@jupyter-widgets/controls",
          "model_name": "DescriptionStyleModel",
          "model_module_version": "1.5.0",
          "state": {
            "_model_module": "@jupyter-widgets/controls",
            "_model_module_version": "1.5.0",
            "_model_name": "DescriptionStyleModel",
            "_view_count": null,
            "_view_module": "@jupyter-widgets/base",
            "_view_module_version": "1.2.0",
            "_view_name": "StyleView",
            "description_width": ""
          }
        },
        "5aa7421391d64a02b933449321f14c14": {
          "model_module": "@jupyter-widgets/base",
          "model_name": "LayoutModel",
          "model_module_version": "1.2.0",
          "state": {
            "_model_module": "@jupyter-widgets/base",
            "_model_module_version": "1.2.0",
            "_model_name": "LayoutModel",
            "_view_count": null,
            "_view_module": "@jupyter-widgets/base",
            "_view_module_version": "1.2.0",
            "_view_name": "LayoutView",
            "align_content": null,
            "align_items": null,
            "align_self": null,
            "border": null,
            "bottom": null,
            "display": null,
            "flex": null,
            "flex_flow": null,
            "grid_area": null,
            "grid_auto_columns": null,
            "grid_auto_flow": null,
            "grid_auto_rows": null,
            "grid_column": null,
            "grid_gap": null,
            "grid_row": null,
            "grid_template_areas": null,
            "grid_template_columns": null,
            "grid_template_rows": null,
            "height": "auto",
            "justify_content": null,
            "justify_items": null,
            "left": null,
            "margin": null,
            "max_height": null,
            "max_width": null,
            "min_height": null,
            "min_width": null,
            "object_fit": null,
            "object_position": null,
            "order": null,
            "overflow": null,
            "overflow_x": null,
            "overflow_y": null,
            "padding": "0.5em",
            "right": null,
            "top": null,
            "visibility": null,
            "width": "auto"
          }
        },
        "962e1faff0674f3eb78c8cd36e29f24d": {
          "model_module": "@jupyter-widgets/controls",
          "model_name": "ButtonStyleModel",
          "model_module_version": "1.5.0",
          "state": {
            "_model_module": "@jupyter-widgets/controls",
            "_model_module_version": "1.5.0",
            "_model_name": "ButtonStyleModel",
            "_view_count": null,
            "_view_module": "@jupyter-widgets/base",
            "_view_module_version": "1.2.0",
            "_view_name": "StyleView",
            "button_color": "#aaffaa",
            "font_weight": ""
          }
        },
        "388891b4e8744c09b26d9e4826fd540a": {
          "model_module": "@jupyter-widgets/base",
          "model_name": "LayoutModel",
          "model_module_version": "1.2.0",
          "state": {
            "_model_module": "@jupyter-widgets/base",
            "_model_module_version": "1.2.0",
            "_model_name": "LayoutModel",
            "_view_count": null,
            "_view_module": "@jupyter-widgets/base",
            "_view_module_version": "1.2.0",
            "_view_name": "LayoutView",
            "align_content": null,
            "align_items": null,
            "align_self": null,
            "border": null,
            "bottom": null,
            "display": null,
            "flex": null,
            "flex_flow": null,
            "grid_area": null,
            "grid_auto_columns": null,
            "grid_auto_flow": null,
            "grid_auto_rows": null,
            "grid_column": null,
            "grid_gap": null,
            "grid_row": null,
            "grid_template_areas": null,
            "grid_template_columns": null,
            "grid_template_rows": null,
            "height": "auto",
            "justify_content": null,
            "justify_items": null,
            "left": null,
            "margin": null,
            "max_height": null,
            "max_width": null,
            "min_height": null,
            "min_width": null,
            "object_fit": null,
            "object_position": null,
            "order": null,
            "overflow": null,
            "overflow_x": null,
            "overflow_y": null,
            "padding": "0.5em",
            "right": null,
            "top": null,
            "visibility": null,
            "width": "auto"
          }
        },
        "fe53081648644c9b900432c1597c6607": {
          "model_module": "@jupyter-widgets/controls",
          "model_name": "ButtonStyleModel",
          "model_module_version": "1.5.0",
          "state": {
            "_model_module": "@jupyter-widgets/controls",
            "_model_module_version": "1.5.0",
            "_model_name": "ButtonStyleModel",
            "_view_count": null,
            "_view_module": "@jupyter-widgets/base",
            "_view_module_version": "1.2.0",
            "_view_name": "StyleView",
            "button_color": "#dddd77",
            "font_weight": ""
          }
        },
        "4dbb9815802f4e37b74824c5479e21b3": {
          "model_module": "@jupyter-widgets/base",
          "model_name": "LayoutModel",
          "model_module_version": "1.2.0",
          "state": {
            "_model_module": "@jupyter-widgets/base",
            "_model_module_version": "1.2.0",
            "_model_name": "LayoutModel",
            "_view_count": null,
            "_view_module": "@jupyter-widgets/base",
            "_view_module_version": "1.2.0",
            "_view_name": "LayoutView",
            "align_content": null,
            "align_items": null,
            "align_self": null,
            "border": null,
            "bottom": null,
            "display": null,
            "flex": null,
            "flex_flow": null,
            "grid_area": null,
            "grid_auto_columns": null,
            "grid_auto_flow": null,
            "grid_auto_rows": null,
            "grid_column": null,
            "grid_gap": null,
            "grid_row": null,
            "grid_template_areas": null,
            "grid_template_columns": null,
            "grid_template_rows": null,
            "height": "auto",
            "justify_content": null,
            "justify_items": null,
            "left": null,
            "margin": null,
            "max_height": null,
            "max_width": null,
            "min_height": null,
            "min_width": null,
            "object_fit": null,
            "object_position": null,
            "order": null,
            "overflow": null,
            "overflow_x": null,
            "overflow_y": null,
            "padding": "0.5em",
            "right": null,
            "top": null,
            "visibility": null,
            "width": "auto"
          }
        },
        "25eabfb342144b87a42b2706e77543b1": {
          "model_module": "@jupyter-widgets/controls",
          "model_name": "ButtonStyleModel",
          "model_module_version": "1.5.0",
          "state": {
            "_model_module": "@jupyter-widgets/controls",
            "_model_module_version": "1.5.0",
            "_model_name": "ButtonStyleModel",
            "_view_count": null,
            "_view_module": "@jupyter-widgets/base",
            "_view_module_version": "1.2.0",
            "_view_name": "StyleView",
            "button_color": "#ffaaaa",
            "font_weight": ""
          }
        },
        "ba26d4a79fae4af89ded8cafbc2914c6": {
          "model_module": "@jupyter-widgets/base",
          "model_name": "LayoutModel",
          "model_module_version": "1.2.0",
          "state": {
            "_model_module": "@jupyter-widgets/base",
            "_model_module_version": "1.2.0",
            "_model_name": "LayoutModel",
            "_view_count": null,
            "_view_module": "@jupyter-widgets/base",
            "_view_module_version": "1.2.0",
            "_view_name": "LayoutView",
            "align_content": null,
            "align_items": null,
            "align_self": null,
            "border": null,
            "bottom": null,
            "display": null,
            "flex": null,
            "flex_flow": null,
            "grid_area": null,
            "grid_auto_columns": null,
            "grid_auto_flow": null,
            "grid_auto_rows": null,
            "grid_column": null,
            "grid_gap": null,
            "grid_row": null,
            "grid_template_areas": null,
            "grid_template_columns": null,
            "grid_template_rows": null,
            "height": "auto",
            "justify_content": null,
            "justify_items": null,
            "left": null,
            "margin": null,
            "max_height": null,
            "max_width": null,
            "min_height": null,
            "min_width": null,
            "object_fit": null,
            "object_position": null,
            "order": null,
            "overflow": null,
            "overflow_x": null,
            "overflow_y": null,
            "padding": null,
            "right": null,
            "top": null,
            "visibility": null,
            "width": "auto"
          }
        },
        "b8739da341074247b7c52fef89d4c2bb": {
          "model_module": "@jupyter-widgets/controls",
          "model_name": "DescriptionStyleModel",
          "model_module_version": "1.5.0",
          "state": {
            "_model_module": "@jupyter-widgets/controls",
            "_model_module_version": "1.5.0",
            "_model_name": "DescriptionStyleModel",
            "_view_count": null,
            "_view_module": "@jupyter-widgets/base",
            "_view_module_version": "1.2.0",
            "_view_name": "StyleView",
            "description_width": ""
          }
        },
        "4afa6640759d49a99fb1b895a12502ec": {
          "model_module": "@jupyter-widgets/base",
          "model_name": "LayoutModel",
          "model_module_version": "1.2.0",
          "state": {
            "_model_module": "@jupyter-widgets/base",
            "_model_module_version": "1.2.0",
            "_model_name": "LayoutModel",
            "_view_count": null,
            "_view_module": "@jupyter-widgets/base",
            "_view_module_version": "1.2.0",
            "_view_name": "LayoutView",
            "align_content": null,
            "align_items": null,
            "align_self": null,
            "border": null,
            "bottom": null,
            "display": null,
            "flex": null,
            "flex_flow": null,
            "grid_area": null,
            "grid_auto_columns": null,
            "grid_auto_flow": null,
            "grid_auto_rows": null,
            "grid_column": null,
            "grid_gap": null,
            "grid_row": null,
            "grid_template_areas": null,
            "grid_template_columns": null,
            "grid_template_rows": null,
            "height": "auto",
            "justify_content": null,
            "justify_items": null,
            "left": null,
            "margin": null,
            "max_height": null,
            "max_width": null,
            "min_height": null,
            "min_width": null,
            "object_fit": null,
            "object_position": null,
            "order": null,
            "overflow": null,
            "overflow_x": null,
            "overflow_y": null,
            "padding": null,
            "right": null,
            "top": null,
            "visibility": null,
            "width": "auto"
          }
        },
        "13b49e48769b4604bb0c320b761f58ae": {
          "model_module": "@jupyter-widgets/controls",
          "model_name": "ButtonStyleModel",
          "model_module_version": "1.5.0",
          "state": {
            "_model_module": "@jupyter-widgets/controls",
            "_model_module_version": "1.5.0",
            "_model_name": "ButtonStyleModel",
            "_view_count": null,
            "_view_module": "@jupyter-widgets/base",
            "_view_module_version": "1.2.0",
            "_view_name": "StyleView",
            "button_color": null,
            "font_weight": ""
          }
        },
        "39f84ff77feb452b968c1cd4ca1325c3": {
          "model_module": "@jupyter-widgets/controls",
          "model_name": "TabModel",
          "model_module_version": "1.5.0",
          "state": {
            "_dom_classes": [],
            "_model_module": "@jupyter-widgets/controls",
            "_model_module_version": "1.5.0",
            "_model_name": "TabModel",
            "_titles": {
              "0": "Youtube",
              "1": "Bilibili"
            },
            "_view_count": null,
            "_view_module": "@jupyter-widgets/controls",
            "_view_module_version": "1.5.0",
            "_view_name": "TabView",
            "box_style": "",
            "children": [
              "IPY_MODEL_c8651df16ee94c0f8c79698e7dcb00f6",
              "IPY_MODEL_2a5a352e73e2426c9af4b4b901eafc3c"
            ],
            "layout": "IPY_MODEL_816f1d9bc98d4c94a6a489f6c0f68424",
            "selected_index": 0
          }
        },
        "c8651df16ee94c0f8c79698e7dcb00f6": {
          "model_module": "@jupyter-widgets/output",
          "model_name": "OutputModel",
          "model_module_version": "1.0.0",
          "state": {
            "_dom_classes": [],
            "_model_module": "@jupyter-widgets/output",
            "_model_module_version": "1.0.0",
            "_model_name": "OutputModel",
            "_view_count": null,
            "_view_module": "@jupyter-widgets/output",
            "_view_module_version": "1.0.0",
            "_view_name": "OutputView",
            "layout": "IPY_MODEL_5fa6e550926842aeb2eb77f70edc66cd",
            "msg_id": "",
            "outputs": [
              {
                "output_type": "stream",
                "name": "stdout",
                "text": [
                  "Video available at https://youtube.com/watch?v=preNGdab7Kk\n"
                ]
              },
              {
                "output_type": "display_data",
                "data": {
                  "text/plain": "<IPython.lib.display.YouTubeVideo at 0x789c054489a0>",
                  "text/html": "\n        <iframe\n            width=\"854\"\n            height=\"480\"\n            src=\"https://www.youtube.com/embed/preNGdab7Kk?fs=1&rel=0\"\n            frameborder=\"0\"\n            allowfullscreen\n            \n        ></iframe>\n        ",
                  "image/jpeg": "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\n"
                },
                "metadata": {}
              }
            ]
          }
        },
        "2a5a352e73e2426c9af4b4b901eafc3c": {
          "model_module": "@jupyter-widgets/output",
          "model_name": "OutputModel",
          "model_module_version": "1.0.0",
          "state": {
            "_dom_classes": [],
            "_model_module": "@jupyter-widgets/output",
            "_model_module_version": "1.0.0",
            "_model_name": "OutputModel",
            "_view_count": null,
            "_view_module": "@jupyter-widgets/output",
            "_view_module_version": "1.0.0",
            "_view_name": "OutputView",
            "layout": "IPY_MODEL_0ccd46628d3c4bc28225178ca0408348",
            "msg_id": "",
            "outputs": [
              {
                "output_type": "stream",
                "name": "stdout",
                "text": [
                  "Video available at https://www.bilibili.com/video/BV1Li4y137wS\n"
                ]
              },
              {
                "output_type": "display_data",
                "data": {
                  "text/plain": "<__main__.PlayVideo at 0x789c05448100>",
                  "text/html": "\n        <iframe\n            width=\"854\"\n            height=\"480\"\n            src=\"https://player.bilibili.com/player.html?bvid=BV1Li4y137wS&page=1?fs=1&autoplay=False\"\n            frameborder=\"0\"\n            allowfullscreen\n            \n        ></iframe>\n        "
                },
                "metadata": {}
              }
            ]
          }
        },
        "816f1d9bc98d4c94a6a489f6c0f68424": {
          "model_module": "@jupyter-widgets/base",
          "model_name": "LayoutModel",
          "model_module_version": "1.2.0",
          "state": {
            "_model_module": "@jupyter-widgets/base",
            "_model_module_version": "1.2.0",
            "_model_name": "LayoutModel",
            "_view_count": null,
            "_view_module": "@jupyter-widgets/base",
            "_view_module_version": "1.2.0",
            "_view_name": "LayoutView",
            "align_content": null,
            "align_items": null,
            "align_self": null,
            "border": null,
            "bottom": null,
            "display": null,
            "flex": null,
            "flex_flow": null,
            "grid_area": null,
            "grid_auto_columns": null,
            "grid_auto_flow": null,
            "grid_auto_rows": null,
            "grid_column": null,
            "grid_gap": null,
            "grid_row": null,
            "grid_template_areas": null,
            "grid_template_columns": null,
            "grid_template_rows": null,
            "height": null,
            "justify_content": null,
            "justify_items": null,
            "left": null,
            "margin": null,
            "max_height": null,
            "max_width": null,
            "min_height": null,
            "min_width": null,
            "object_fit": null,
            "object_position": null,
            "order": null,
            "overflow": null,
            "overflow_x": null,
            "overflow_y": null,
            "padding": null,
            "right": null,
            "top": null,
            "visibility": null,
            "width": null
          }
        },
        "5fa6e550926842aeb2eb77f70edc66cd": {
          "model_module": "@jupyter-widgets/base",
          "model_name": "LayoutModel",
          "model_module_version": "1.2.0",
          "state": {
            "_model_module": "@jupyter-widgets/base",
            "_model_module_version": "1.2.0",
            "_model_name": "LayoutModel",
            "_view_count": null,
            "_view_module": "@jupyter-widgets/base",
            "_view_module_version": "1.2.0",
            "_view_name": "LayoutView",
            "align_content": null,
            "align_items": null,
            "align_self": null,
            "border": null,
            "bottom": null,
            "display": null,
            "flex": null,
            "flex_flow": null,
            "grid_area": null,
            "grid_auto_columns": null,
            "grid_auto_flow": null,
            "grid_auto_rows": null,
            "grid_column": null,
            "grid_gap": null,
            "grid_row": null,
            "grid_template_areas": null,
            "grid_template_columns": null,
            "grid_template_rows": null,
            "height": null,
            "justify_content": null,
            "justify_items": null,
            "left": null,
            "margin": null,
            "max_height": null,
            "max_width": null,
            "min_height": null,
            "min_width": null,
            "object_fit": null,
            "object_position": null,
            "order": null,
            "overflow": null,
            "overflow_x": null,
            "overflow_y": null,
            "padding": null,
            "right": null,
            "top": null,
            "visibility": null,
            "width": null
          }
        },
        "0ccd46628d3c4bc28225178ca0408348": {
          "model_module": "@jupyter-widgets/base",
          "model_name": "LayoutModel",
          "model_module_version": "1.2.0",
          "state": {
            "_model_module": "@jupyter-widgets/base",
            "_model_module_version": "1.2.0",
            "_model_name": "LayoutModel",
            "_view_count": null,
            "_view_module": "@jupyter-widgets/base",
            "_view_module_version": "1.2.0",
            "_view_name": "LayoutView",
            "align_content": null,
            "align_items": null,
            "align_self": null,
            "border": null,
            "bottom": null,
            "display": null,
            "flex": null,
            "flex_flow": null,
            "grid_area": null,
            "grid_auto_columns": null,
            "grid_auto_flow": null,
            "grid_auto_rows": null,
            "grid_column": null,
            "grid_gap": null,
            "grid_row": null,
            "grid_template_areas": null,
            "grid_template_columns": null,
            "grid_template_rows": null,
            "height": null,
            "justify_content": null,
            "justify_items": null,
            "left": null,
            "margin": null,
            "max_height": null,
            "max_width": null,
            "min_height": null,
            "min_width": null,
            "object_fit": null,
            "object_position": null,
            "order": null,
            "overflow": null,
            "overflow_x": null,
            "overflow_y": null,
            "padding": null,
            "right": null,
            "top": null,
            "visibility": null,
            "width": null
          }
        },
        "9c71c6821650478089ad8e485c6de7ce": {
          "model_module": "@jupyter-widgets/controls",
          "model_name": "VBoxModel",
          "model_module_version": "1.5.0",
          "state": {
            "_dom_classes": [],
            "_model_module": "@jupyter-widgets/controls",
            "_model_module_version": "1.5.0",
            "_model_name": "VBoxModel",
            "_view_count": null,
            "_view_module": "@jupyter-widgets/controls",
            "_view_module_version": "1.5.0",
            "_view_name": "VBoxView",
            "box_style": "",
            "children": [
              "IPY_MODEL_5e45c0b133af432388005f90d2d40993"
            ],
            "layout": "IPY_MODEL_1311c17b97f14c59aa4d8e942ba3581b"
          }
        },
        "5e45c0b133af432388005f90d2d40993": {
          "model_module": "@jupyter-widgets/controls",
          "model_name": "VBoxModel",
          "model_module_version": "1.5.0",
          "state": {
            "_dom_classes": [],
            "_model_module": "@jupyter-widgets/controls",
            "_model_module_version": "1.5.0",
            "_model_name": "VBoxModel",
            "_view_count": null,
            "_view_module": "@jupyter-widgets/controls",
            "_view_module_version": "1.5.0",
            "_view_name": "VBoxView",
            "box_style": "",
            "children": [
              "IPY_MODEL_0d38a367344544b7bf52de15ada88844",
              "IPY_MODEL_d9ddfcf2b69d424693579496c4e08042",
              "IPY_MODEL_11f6668f10da47f6bd9497bc1e6b1a72"
            ],
            "layout": "IPY_MODEL_303517432d0a4f9da023ed2f529d2bc3"
          }
        },
        "1311c17b97f14c59aa4d8e942ba3581b": {
          "model_module": "@jupyter-widgets/base",
          "model_name": "LayoutModel",
          "model_module_version": "1.2.0",
          "state": {
            "_model_module": "@jupyter-widgets/base",
            "_model_module_version": "1.2.0",
            "_model_name": "LayoutModel",
            "_view_count": null,
            "_view_module": "@jupyter-widgets/base",
            "_view_module_version": "1.2.0",
            "_view_name": "LayoutView",
            "align_content": null,
            "align_items": null,
            "align_self": null,
            "border": null,
            "bottom": null,
            "display": null,
            "flex": null,
            "flex_flow": null,
            "grid_area": null,
            "grid_auto_columns": null,
            "grid_auto_flow": null,
            "grid_auto_rows": null,
            "grid_column": null,
            "grid_gap": null,
            "grid_row": null,
            "grid_template_areas": null,
            "grid_template_columns": null,
            "grid_template_rows": null,
            "height": null,
            "justify_content": null,
            "justify_items": null,
            "left": null,
            "margin": null,
            "max_height": null,
            "max_width": null,
            "min_height": null,
            "min_width": null,
            "object_fit": null,
            "object_position": null,
            "order": null,
            "overflow": null,
            "overflow_x": null,
            "overflow_y": null,
            "padding": null,
            "right": null,
            "top": null,
            "visibility": null,
            "width": null
          }
        },
        "0d38a367344544b7bf52de15ada88844": {
          "model_module": "@jupyter-widgets/controls",
          "model_name": "HBoxModel",
          "model_module_version": "1.5.0",
          "state": {
            "_dom_classes": [],
            "_model_module": "@jupyter-widgets/controls",
            "_model_module_version": "1.5.0",
            "_model_name": "HBoxModel",
            "_view_count": null,
            "_view_module": "@jupyter-widgets/controls",
            "_view_module_version": "1.5.0",
            "_view_name": "HBoxView",
            "box_style": "",
            "children": [
              "IPY_MODEL_322cbf9c32274e7386e15faba439c303",
              "IPY_MODEL_938770300d0c40d2a48d433f6e89fe3a",
              "IPY_MODEL_8c6e7559f7da4044a23f68af69618e60"
            ],
            "layout": "IPY_MODEL_993010a622814602b0e8ce9ca5bac8f1"
          }
        },
        "d9ddfcf2b69d424693579496c4e08042": {
          "model_module": "@jupyter-widgets/controls",
          "model_name": "HBoxModel",
          "model_module_version": "1.5.0",
          "state": {
            "_dom_classes": [],
            "_model_module": "@jupyter-widgets/controls",
            "_model_module_version": "1.5.0",
            "_model_name": "HBoxModel",
            "_view_count": null,
            "_view_module": "@jupyter-widgets/controls",
            "_view_module_version": "1.5.0",
            "_view_name": "HBoxView",
            "box_style": "",
            "children": [
              "IPY_MODEL_3e185a913ccd4cd38fa6e4ec239ba730",
              "IPY_MODEL_cc1eaeafd0ea45399a44c1e56f436abc"
            ],
            "layout": "IPY_MODEL_4d40d47ec23541f3814d527b14c1a85e"
          }
        },
        "11f6668f10da47f6bd9497bc1e6b1a72": {
          "model_module": "@jupyter-widgets/controls",
          "model_name": "LabelModel",
          "model_module_version": "1.5.0",
          "state": {
            "_dom_classes": [],
            "_model_module": "@jupyter-widgets/controls",
            "_model_module_version": "1.5.0",
            "_model_name": "LabelModel",
            "_view_count": null,
            "_view_module": "@jupyter-widgets/controls",
            "_view_module_version": "1.5.0",
            "_view_name": "LabelView",
            "description": "",
            "description_tooltip": null,
            "layout": "IPY_MODEL_732903b7b9f54ba390165c9ea7971d9d",
            "placeholder": "​",
            "style": "IPY_MODEL_d5bca5d1340c4c5d9f9284623e913076",
            "value": "Thanks for your feedback!"
          }
        },
        "303517432d0a4f9da023ed2f529d2bc3": {
          "model_module": "@jupyter-widgets/base",
          "model_name": "LayoutModel",
          "model_module_version": "1.2.0",
          "state": {
            "_model_module": "@jupyter-widgets/base",
            "_model_module_version": "1.2.0",
            "_model_name": "LayoutModel",
            "_view_count": null,
            "_view_module": "@jupyter-widgets/base",
            "_view_module_version": "1.2.0",
            "_view_name": "LayoutView",
            "align_content": null,
            "align_items": null,
            "align_self": null,
            "border": null,
            "bottom": null,
            "display": null,
            "flex": null,
            "flex_flow": null,
            "grid_area": null,
            "grid_auto_columns": null,
            "grid_auto_flow": null,
            "grid_auto_rows": null,
            "grid_column": null,
            "grid_gap": null,
            "grid_row": null,
            "grid_template_areas": null,
            "grid_template_columns": null,
            "grid_template_rows": null,
            "height": null,
            "justify_content": null,
            "justify_items": null,
            "left": null,
            "margin": null,
            "max_height": null,
            "max_width": null,
            "min_height": null,
            "min_width": null,
            "object_fit": null,
            "object_position": null,
            "order": null,
            "overflow": null,
            "overflow_x": null,
            "overflow_y": null,
            "padding": null,
            "right": null,
            "top": null,
            "visibility": null,
            "width": null
          }
        },
        "322cbf9c32274e7386e15faba439c303": {
          "model_module": "@jupyter-widgets/controls",
          "model_name": "ButtonModel",
          "model_module_version": "1.5.0",
          "state": {
            "_dom_classes": [
              "happy"
            ],
            "_model_module": "@jupyter-widgets/controls",
            "_model_module_version": "1.5.0",
            "_model_name": "ButtonModel",
            "_view_count": null,
            "_view_module": "@jupyter-widgets/controls",
            "_view_module_version": "1.5.0",
            "_view_name": "ButtonView",
            "button_style": "",
            "description": "🙂",
            "disabled": false,
            "icon": "",
            "layout": "IPY_MODEL_1144aa87d3f74576b7728aa67513f8f7",
            "style": "IPY_MODEL_c3db3df53e2b434da507d8ccfc6feb59",
            "tooltip": "happy"
          }
        },
        "938770300d0c40d2a48d433f6e89fe3a": {
          "model_module": "@jupyter-widgets/controls",
          "model_name": "ButtonModel",
          "model_module_version": "1.5.0",
          "state": {
            "_dom_classes": [
              "medium"
            ],
            "_model_module": "@jupyter-widgets/controls",
            "_model_module_version": "1.5.0",
            "_model_name": "ButtonModel",
            "_view_count": null,
            "_view_module": "@jupyter-widgets/controls",
            "_view_module_version": "1.5.0",
            "_view_name": "ButtonView",
            "button_style": "",
            "description": "😐",
            "disabled": false,
            "icon": "",
            "layout": "IPY_MODEL_61aeadf66fcc4b0c8e78314568885bde",
            "style": "IPY_MODEL_dc92cecaa50a4d89a575a2aa730f9e4a",
            "tooltip": "medium"
          }
        },
        "8c6e7559f7da4044a23f68af69618e60": {
          "model_module": "@jupyter-widgets/controls",
          "model_name": "ButtonModel",
          "model_module_version": "1.5.0",
          "state": {
            "_dom_classes": [
              "sad"
            ],
            "_model_module": "@jupyter-widgets/controls",
            "_model_module_version": "1.5.0",
            "_model_name": "ButtonModel",
            "_view_count": null,
            "_view_module": "@jupyter-widgets/controls",
            "_view_module_version": "1.5.0",
            "_view_name": "ButtonView",
            "button_style": "",
            "description": "🙁",
            "disabled": false,
            "icon": "",
            "layout": "IPY_MODEL_d535d9fd65314ec79683e8c449fbcef1",
            "style": "IPY_MODEL_d88c5f5abc9141208bc8300bcdc0c151",
            "tooltip": "sad"
          }
        },
        "993010a622814602b0e8ce9ca5bac8f1": {
          "model_module": "@jupyter-widgets/base",
          "model_name": "LayoutModel",
          "model_module_version": "1.2.0",
          "state": {
            "_model_module": "@jupyter-widgets/base",
            "_model_module_version": "1.2.0",
            "_model_name": "LayoutModel",
            "_view_count": null,
            "_view_module": "@jupyter-widgets/base",
            "_view_module_version": "1.2.0",
            "_view_name": "LayoutView",
            "align_content": null,
            "align_items": null,
            "align_self": null,
            "border": null,
            "bottom": null,
            "display": null,
            "flex": null,
            "flex_flow": null,
            "grid_area": null,
            "grid_auto_columns": null,
            "grid_auto_flow": null,
            "grid_auto_rows": null,
            "grid_column": null,
            "grid_gap": null,
            "grid_row": null,
            "grid_template_areas": null,
            "grid_template_columns": null,
            "grid_template_rows": null,
            "height": null,
            "justify_content": null,
            "justify_items": null,
            "left": null,
            "margin": null,
            "max_height": null,
            "max_width": null,
            "min_height": null,
            "min_width": null,
            "object_fit": null,
            "object_position": null,
            "order": null,
            "overflow": null,
            "overflow_x": null,
            "overflow_y": null,
            "padding": null,
            "right": null,
            "top": null,
            "visibility": null,
            "width": null
          }
        },
        "3e185a913ccd4cd38fa6e4ec239ba730": {
          "model_module": "@jupyter-widgets/controls",
          "model_name": "TextareaModel",
          "model_module_version": "1.5.0",
          "state": {
            "_dom_classes": [],
            "_model_module": "@jupyter-widgets/controls",
            "_model_module_version": "1.5.0",
            "_model_name": "TextareaModel",
            "_view_count": null,
            "_view_module": "@jupyter-widgets/controls",
            "_view_module_version": "1.5.0",
            "_view_name": "TextareaView",
            "continuous_update": true,
            "description": "",
            "description_tooltip": null,
            "disabled": false,
            "layout": "IPY_MODEL_3b288384bda14dabbe63d36bcac3c392",
            "placeholder": "We want your feedback!",
            "rows": null,
            "style": "IPY_MODEL_75fc907b90484d999cf1b3f36d65edd9",
            "value": ""
          }
        },
        "cc1eaeafd0ea45399a44c1e56f436abc": {
          "model_module": "@jupyter-widgets/controls",
          "model_name": "ButtonModel",
          "model_module_version": "1.5.0",
          "state": {
            "_dom_classes": [],
            "_model_module": "@jupyter-widgets/controls",
            "_model_module_version": "1.5.0",
            "_model_name": "ButtonModel",
            "_view_count": null,
            "_view_module": "@jupyter-widgets/controls",
            "_view_module_version": "1.5.0",
            "_view_name": "ButtonView",
            "button_style": "",
            "description": "Submit",
            "disabled": false,
            "icon": "",
            "layout": "IPY_MODEL_c39759f4bff24086b5abc561fc743740",
            "style": "IPY_MODEL_07286ea42b9640cdbc4e59a9505511b8",
            "tooltip": ""
          }
        },
        "4d40d47ec23541f3814d527b14c1a85e": {
          "model_module": "@jupyter-widgets/base",
          "model_name": "LayoutModel",
          "model_module_version": "1.2.0",
          "state": {
            "_model_module": "@jupyter-widgets/base",
            "_model_module_version": "1.2.0",
            "_model_name": "LayoutModel",
            "_view_count": null,
            "_view_module": "@jupyter-widgets/base",
            "_view_module_version": "1.2.0",
            "_view_name": "LayoutView",
            "align_content": null,
            "align_items": null,
            "align_self": null,
            "border": null,
            "bottom": null,
            "display": "none",
            "flex": null,
            "flex_flow": null,
            "grid_area": null,
            "grid_auto_columns": null,
            "grid_auto_flow": null,
            "grid_auto_rows": null,
            "grid_column": null,
            "grid_gap": null,
            "grid_row": null,
            "grid_template_areas": null,
            "grid_template_columns": null,
            "grid_template_rows": null,
            "height": null,
            "justify_content": null,
            "justify_items": null,
            "left": null,
            "margin": null,
            "max_height": null,
            "max_width": null,
            "min_height": null,
            "min_width": null,
            "object_fit": null,
            "object_position": null,
            "order": null,
            "overflow": null,
            "overflow_x": null,
            "overflow_y": null,
            "padding": null,
            "right": null,
            "top": null,
            "visibility": null,
            "width": null
          }
        },
        "732903b7b9f54ba390165c9ea7971d9d": {
          "model_module": "@jupyter-widgets/base",
          "model_name": "LayoutModel",
          "model_module_version": "1.2.0",
          "state": {
            "_model_module": "@jupyter-widgets/base",
            "_model_module_version": "1.2.0",
            "_model_name": "LayoutModel",
            "_view_count": null,
            "_view_module": "@jupyter-widgets/base",
            "_view_module_version": "1.2.0",
            "_view_name": "LayoutView",
            "align_content": null,
            "align_items": null,
            "align_self": null,
            "border": null,
            "bottom": null,
            "display": "none",
            "flex": null,
            "flex_flow": null,
            "grid_area": null,
            "grid_auto_columns": null,
            "grid_auto_flow": null,
            "grid_auto_rows": null,
            "grid_column": null,
            "grid_gap": null,
            "grid_row": null,
            "grid_template_areas": null,
            "grid_template_columns": null,
            "grid_template_rows": null,
            "height": null,
            "justify_content": null,
            "justify_items": null,
            "left": null,
            "margin": null,
            "max_height": null,
            "max_width": null,
            "min_height": null,
            "min_width": null,
            "object_fit": null,
            "object_position": null,
            "order": null,
            "overflow": null,
            "overflow_x": null,
            "overflow_y": null,
            "padding": null,
            "right": null,
            "top": null,
            "visibility": null,
            "width": null
          }
        },
        "d5bca5d1340c4c5d9f9284623e913076": {
          "model_module": "@jupyter-widgets/controls",
          "model_name": "DescriptionStyleModel",
          "model_module_version": "1.5.0",
          "state": {
            "_model_module": "@jupyter-widgets/controls",
            "_model_module_version": "1.5.0",
            "_model_name": "DescriptionStyleModel",
            "_view_count": null,
            "_view_module": "@jupyter-widgets/base",
            "_view_module_version": "1.2.0",
            "_view_name": "StyleView",
            "description_width": ""
          }
        },
        "1144aa87d3f74576b7728aa67513f8f7": {
          "model_module": "@jupyter-widgets/base",
          "model_name": "LayoutModel",
          "model_module_version": "1.2.0",
          "state": {
            "_model_module": "@jupyter-widgets/base",
            "_model_module_version": "1.2.0",
            "_model_name": "LayoutModel",
            "_view_count": null,
            "_view_module": "@jupyter-widgets/base",
            "_view_module_version": "1.2.0",
            "_view_name": "LayoutView",
            "align_content": null,
            "align_items": null,
            "align_self": null,
            "border": null,
            "bottom": null,
            "display": null,
            "flex": null,
            "flex_flow": null,
            "grid_area": null,
            "grid_auto_columns": null,
            "grid_auto_flow": null,
            "grid_auto_rows": null,
            "grid_column": null,
            "grid_gap": null,
            "grid_row": null,
            "grid_template_areas": null,
            "grid_template_columns": null,
            "grid_template_rows": null,
            "height": "auto",
            "justify_content": null,
            "justify_items": null,
            "left": null,
            "margin": null,
            "max_height": null,
            "max_width": null,
            "min_height": null,
            "min_width": null,
            "object_fit": null,
            "object_position": null,
            "order": null,
            "overflow": null,
            "overflow_x": null,
            "overflow_y": null,
            "padding": "0.5em",
            "right": null,
            "top": null,
            "visibility": null,
            "width": "auto"
          }
        },
        "c3db3df53e2b434da507d8ccfc6feb59": {
          "model_module": "@jupyter-widgets/controls",
          "model_name": "ButtonStyleModel",
          "model_module_version": "1.5.0",
          "state": {
            "_model_module": "@jupyter-widgets/controls",
            "_model_module_version": "1.5.0",
            "_model_name": "ButtonStyleModel",
            "_view_count": null,
            "_view_module": "@jupyter-widgets/base",
            "_view_module_version": "1.2.0",
            "_view_name": "StyleView",
            "button_color": "#aaffaa",
            "font_weight": ""
          }
        },
        "61aeadf66fcc4b0c8e78314568885bde": {
          "model_module": "@jupyter-widgets/base",
          "model_name": "LayoutModel",
          "model_module_version": "1.2.0",
          "state": {
            "_model_module": "@jupyter-widgets/base",
            "_model_module_version": "1.2.0",
            "_model_name": "LayoutModel",
            "_view_count": null,
            "_view_module": "@jupyter-widgets/base",
            "_view_module_version": "1.2.0",
            "_view_name": "LayoutView",
            "align_content": null,
            "align_items": null,
            "align_self": null,
            "border": null,
            "bottom": null,
            "display": null,
            "flex": null,
            "flex_flow": null,
            "grid_area": null,
            "grid_auto_columns": null,
            "grid_auto_flow": null,
            "grid_auto_rows": null,
            "grid_column": null,
            "grid_gap": null,
            "grid_row": null,
            "grid_template_areas": null,
            "grid_template_columns": null,
            "grid_template_rows": null,
            "height": "auto",
            "justify_content": null,
            "justify_items": null,
            "left": null,
            "margin": null,
            "max_height": null,
            "max_width": null,
            "min_height": null,
            "min_width": null,
            "object_fit": null,
            "object_position": null,
            "order": null,
            "overflow": null,
            "overflow_x": null,
            "overflow_y": null,
            "padding": "0.5em",
            "right": null,
            "top": null,
            "visibility": null,
            "width": "auto"
          }
        },
        "dc92cecaa50a4d89a575a2aa730f9e4a": {
          "model_module": "@jupyter-widgets/controls",
          "model_name": "ButtonStyleModel",
          "model_module_version": "1.5.0",
          "state": {
            "_model_module": "@jupyter-widgets/controls",
            "_model_module_version": "1.5.0",
            "_model_name": "ButtonStyleModel",
            "_view_count": null,
            "_view_module": "@jupyter-widgets/base",
            "_view_module_version": "1.2.0",
            "_view_name": "StyleView",
            "button_color": "#dddd77",
            "font_weight": ""
          }
        },
        "d535d9fd65314ec79683e8c449fbcef1": {
          "model_module": "@jupyter-widgets/base",
          "model_name": "LayoutModel",
          "model_module_version": "1.2.0",
          "state": {
            "_model_module": "@jupyter-widgets/base",
            "_model_module_version": "1.2.0",
            "_model_name": "LayoutModel",
            "_view_count": null,
            "_view_module": "@jupyter-widgets/base",
            "_view_module_version": "1.2.0",
            "_view_name": "LayoutView",
            "align_content": null,
            "align_items": null,
            "align_self": null,
            "border": null,
            "bottom": null,
            "display": null,
            "flex": null,
            "flex_flow": null,
            "grid_area": null,
            "grid_auto_columns": null,
            "grid_auto_flow": null,
            "grid_auto_rows": null,
            "grid_column": null,
            "grid_gap": null,
            "grid_row": null,
            "grid_template_areas": null,
            "grid_template_columns": null,
            "grid_template_rows": null,
            "height": "auto",
            "justify_content": null,
            "justify_items": null,
            "left": null,
            "margin": null,
            "max_height": null,
            "max_width": null,
            "min_height": null,
            "min_width": null,
            "object_fit": null,
            "object_position": null,
            "order": null,
            "overflow": null,
            "overflow_x": null,
            "overflow_y": null,
            "padding": "0.5em",
            "right": null,
            "top": null,
            "visibility": null,
            "width": "auto"
          }
        },
        "d88c5f5abc9141208bc8300bcdc0c151": {
          "model_module": "@jupyter-widgets/controls",
          "model_name": "ButtonStyleModel",
          "model_module_version": "1.5.0",
          "state": {
            "_model_module": "@jupyter-widgets/controls",
            "_model_module_version": "1.5.0",
            "_model_name": "ButtonStyleModel",
            "_view_count": null,
            "_view_module": "@jupyter-widgets/base",
            "_view_module_version": "1.2.0",
            "_view_name": "StyleView",
            "button_color": "#ffaaaa",
            "font_weight": ""
          }
        },
        "3b288384bda14dabbe63d36bcac3c392": {
          "model_module": "@jupyter-widgets/base",
          "model_name": "LayoutModel",
          "model_module_version": "1.2.0",
          "state": {
            "_model_module": "@jupyter-widgets/base",
            "_model_module_version": "1.2.0",
            "_model_name": "LayoutModel",
            "_view_count": null,
            "_view_module": "@jupyter-widgets/base",
            "_view_module_version": "1.2.0",
            "_view_name": "LayoutView",
            "align_content": null,
            "align_items": null,
            "align_self": null,
            "border": null,
            "bottom": null,
            "display": null,
            "flex": null,
            "flex_flow": null,
            "grid_area": null,
            "grid_auto_columns": null,
            "grid_auto_flow": null,
            "grid_auto_rows": null,
            "grid_column": null,
            "grid_gap": null,
            "grid_row": null,
            "grid_template_areas": null,
            "grid_template_columns": null,
            "grid_template_rows": null,
            "height": "auto",
            "justify_content": null,
            "justify_items": null,
            "left": null,
            "margin": null,
            "max_height": null,
            "max_width": null,
            "min_height": null,
            "min_width": null,
            "object_fit": null,
            "object_position": null,
            "order": null,
            "overflow": null,
            "overflow_x": null,
            "overflow_y": null,
            "padding": null,
            "right": null,
            "top": null,
            "visibility": null,
            "width": "auto"
          }
        },
        "75fc907b90484d999cf1b3f36d65edd9": {
          "model_module": "@jupyter-widgets/controls",
          "model_name": "DescriptionStyleModel",
          "model_module_version": "1.5.0",
          "state": {
            "_model_module": "@jupyter-widgets/controls",
            "_model_module_version": "1.5.0",
            "_model_name": "DescriptionStyleModel",
            "_view_count": null,
            "_view_module": "@jupyter-widgets/base",
            "_view_module_version": "1.2.0",
            "_view_name": "StyleView",
            "description_width": ""
          }
        },
        "c39759f4bff24086b5abc561fc743740": {
          "model_module": "@jupyter-widgets/base",
          "model_name": "LayoutModel",
          "model_module_version": "1.2.0",
          "state": {
            "_model_module": "@jupyter-widgets/base",
            "_model_module_version": "1.2.0",
            "_model_name": "LayoutModel",
            "_view_count": null,
            "_view_module": "@jupyter-widgets/base",
            "_view_module_version": "1.2.0",
            "_view_name": "LayoutView",
            "align_content": null,
            "align_items": null,
            "align_self": null,
            "border": null,
            "bottom": null,
            "display": null,
            "flex": null,
            "flex_flow": null,
            "grid_area": null,
            "grid_auto_columns": null,
            "grid_auto_flow": null,
            "grid_auto_rows": null,
            "grid_column": null,
            "grid_gap": null,
            "grid_row": null,
            "grid_template_areas": null,
            "grid_template_columns": null,
            "grid_template_rows": null,
            "height": "auto",
            "justify_content": null,
            "justify_items": null,
            "left": null,
            "margin": null,
            "max_height": null,
            "max_width": null,
            "min_height": null,
            "min_width": null,
            "object_fit": null,
            "object_position": null,
            "order": null,
            "overflow": null,
            "overflow_x": null,
            "overflow_y": null,
            "padding": null,
            "right": null,
            "top": null,
            "visibility": null,
            "width": "auto"
          }
        },
        "07286ea42b9640cdbc4e59a9505511b8": {
          "model_module": "@jupyter-widgets/controls",
          "model_name": "ButtonStyleModel",
          "model_module_version": "1.5.0",
          "state": {
            "_model_module": "@jupyter-widgets/controls",
            "_model_module_version": "1.5.0",
            "_model_name": "ButtonStyleModel",
            "_view_count": null,
            "_view_module": "@jupyter-widgets/base",
            "_view_module_version": "1.2.0",
            "_view_name": "StyleView",
            "button_color": null,
            "font_weight": ""
          }
        },
        "890a91c5c7e34dd4a0971803ce292f30": {
          "model_module": "@jupyter-widgets/controls",
          "model_name": "VBoxModel",
          "model_module_version": "1.5.0",
          "state": {
            "_dom_classes": [
              "widget-interact"
            ],
            "_model_module": "@jupyter-widgets/controls",
            "_model_module_version": "1.5.0",
            "_model_name": "VBoxModel",
            "_view_count": null,
            "_view_module": "@jupyter-widgets/controls",
            "_view_module_version": "1.5.0",
            "_view_name": "VBoxView",
            "box_style": "",
            "children": [
              "IPY_MODEL_ee07a9c923b04a18a9d65c96ebccb758",
              "IPY_MODEL_01b2f4d5d5fd45b281a36dc9e6740ed6",
              "IPY_MODEL_78430733cc42413781e6d0c05bdd4e5c"
            ],
            "layout": "IPY_MODEL_307fad72c07d4702aad15980f479b328"
          }
        },
        "ee07a9c923b04a18a9d65c96ebccb758": {
          "model_module": "@jupyter-widgets/controls",
          "model_name": "FloatSliderModel",
          "model_module_version": "1.5.0",
          "state": {
            "_dom_classes": [],
            "_model_module": "@jupyter-widgets/controls",
            "_model_module_version": "1.5.0",
            "_model_name": "FloatSliderModel",
            "_view_count": null,
            "_view_module": "@jupyter-widgets/controls",
            "_view_module_version": "1.5.0",
            "_view_name": "FloatSliderView",
            "continuous_update": true,
            "description": "I_dc",
            "description_tooltip": null,
            "disabled": false,
            "layout": "IPY_MODEL_ee73bae8144d4337af18536376201320",
            "max": 300,
            "min": 0,
            "orientation": "horizontal",
            "readout": true,
            "readout_format": ".2f",
            "step": 10,
            "style": "IPY_MODEL_05c416a0099c4344bbf226e2a8daafa5",
            "value": 191
          }
        },
        "01b2f4d5d5fd45b281a36dc9e6740ed6": {
          "model_module": "@jupyter-widgets/controls",
          "model_name": "FloatSliderModel",
          "model_module_version": "1.5.0",
          "state": {
            "_dom_classes": [],
            "_model_module": "@jupyter-widgets/controls",
            "_model_module_version": "1.5.0",
            "_model_name": "FloatSliderModel",
            "_view_count": null,
            "_view_module": "@jupyter-widgets/controls",
            "_view_module_version": "1.5.0",
            "_view_name": "FloatSliderView",
            "continuous_update": true,
            "description": "tau_m",
            "description_tooltip": null,
            "disabled": false,
            "layout": "IPY_MODEL_ee73bae8144d4337af18536376201320",
            "max": 20,
            "min": 2,
            "orientation": "horizontal",
            "readout": true,
            "readout_format": ".2f",
            "step": 2,
            "style": "IPY_MODEL_6546f51703e441fc98eee735566e5596",
            "value": 10
          }
        },
        "78430733cc42413781e6d0c05bdd4e5c": {
          "model_module": "@jupyter-widgets/output",
          "model_name": "OutputModel",
          "model_module_version": "1.0.0",
          "state": {
            "_dom_classes": [],
            "_model_module": "@jupyter-widgets/output",
            "_model_module_version": "1.0.0",
            "_model_name": "OutputModel",
            "_view_count": null,
            "_view_module": "@jupyter-widgets/output",
            "_view_module_version": "1.0.0",
            "_view_name": "OutputView",
            "layout": "IPY_MODEL_84689dab055440b48835a389bf04d248",
            "msg_id": "",
            "outputs": [
              {
                "output_type": "display_data",
                "data": {
                  "text/plain": "<Figure size 800x600 with 1 Axes>",
                  "image/png": "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\n"
                },
                "metadata": {
                  "image/png": {
                    "width": 767,
                    "height": 575
                  }
                }
              }
            ]
          }
        },
        "307fad72c07d4702aad15980f479b328": {
          "model_module": "@jupyter-widgets/base",
          "model_name": "LayoutModel",
          "model_module_version": "1.2.0",
          "state": {
            "_model_module": "@jupyter-widgets/base",
            "_model_module_version": "1.2.0",
            "_model_name": "LayoutModel",
            "_view_count": null,
            "_view_module": "@jupyter-widgets/base",
            "_view_module_version": "1.2.0",
            "_view_name": "LayoutView",
            "align_content": null,
            "align_items": null,
            "align_self": null,
            "border": null,
            "bottom": null,
            "display": null,
            "flex": null,
            "flex_flow": null,
            "grid_area": null,
            "grid_auto_columns": null,
            "grid_auto_flow": null,
            "grid_auto_rows": null,
            "grid_column": null,
            "grid_gap": null,
            "grid_row": null,
            "grid_template_areas": null,
            "grid_template_columns": null,
            "grid_template_rows": null,
            "height": null,
            "justify_content": null,
            "justify_items": null,
            "left": null,
            "margin": null,
            "max_height": null,
            "max_width": null,
            "min_height": null,
            "min_width": null,
            "object_fit": null,
            "object_position": null,
            "order": null,
            "overflow": null,
            "overflow_x": null,
            "overflow_y": null,
            "padding": null,
            "right": null,
            "top": null,
            "visibility": null,
            "width": null
          }
        },
        "ee73bae8144d4337af18536376201320": {
          "model_module": "@jupyter-widgets/base",
          "model_name": "LayoutModel",
          "model_module_version": "1.2.0",
          "state": {
            "_model_module": "@jupyter-widgets/base",
            "_model_module_version": "1.2.0",
            "_model_name": "LayoutModel",
            "_view_count": null,
            "_view_module": "@jupyter-widgets/base",
            "_view_module_version": "1.2.0",
            "_view_name": "LayoutView",
            "align_content": null,
            "align_items": null,
            "align_self": null,
            "border": null,
            "bottom": null,
            "display": null,
            "flex": null,
            "flex_flow": null,
            "grid_area": null,
            "grid_auto_columns": null,
            "grid_auto_flow": null,
            "grid_auto_rows": null,
            "grid_column": null,
            "grid_gap": null,
            "grid_row": null,
            "grid_template_areas": null,
            "grid_template_columns": null,
            "grid_template_rows": null,
            "height": null,
            "justify_content": null,
            "justify_items": null,
            "left": null,
            "margin": null,
            "max_height": null,
            "max_width": null,
            "min_height": null,
            "min_width": null,
            "object_fit": null,
            "object_position": null,
            "order": null,
            "overflow": null,
            "overflow_x": null,
            "overflow_y": null,
            "padding": null,
            "right": null,
            "top": null,
            "visibility": null,
            "width": "450px"
          }
        },
        "05c416a0099c4344bbf226e2a8daafa5": {
          "model_module": "@jupyter-widgets/controls",
          "model_name": "SliderStyleModel",
          "model_module_version": "1.5.0",
          "state": {
            "_model_module": "@jupyter-widgets/controls",
            "_model_module_version": "1.5.0",
            "_model_name": "SliderStyleModel",
            "_view_count": null,
            "_view_module": "@jupyter-widgets/base",
            "_view_module_version": "1.2.0",
            "_view_name": "StyleView",
            "description_width": "",
            "handle_color": null
          }
        },
        "6546f51703e441fc98eee735566e5596": {
          "model_module": "@jupyter-widgets/controls",
          "model_name": "SliderStyleModel",
          "model_module_version": "1.5.0",
          "state": {
            "_model_module": "@jupyter-widgets/controls",
            "_model_module_version": "1.5.0",
            "_model_name": "SliderStyleModel",
            "_view_count": null,
            "_view_module": "@jupyter-widgets/base",
            "_view_module_version": "1.2.0",
            "_view_name": "StyleView",
            "description_width": "",
            "handle_color": null
          }
        },
        "84689dab055440b48835a389bf04d248": {
          "model_module": "@jupyter-widgets/base",
          "model_name": "LayoutModel",
          "model_module_version": "1.2.0",
          "state": {
            "_model_module": "@jupyter-widgets/base",
            "_model_module_version": "1.2.0",
            "_model_name": "LayoutModel",
            "_view_count": null,
            "_view_module": "@jupyter-widgets/base",
            "_view_module_version": "1.2.0",
            "_view_name": "LayoutView",
            "align_content": null,
            "align_items": null,
            "align_self": null,
            "border": null,
            "bottom": null,
            "display": null,
            "flex": null,
            "flex_flow": null,
            "grid_area": null,
            "grid_auto_columns": null,
            "grid_auto_flow": null,
            "grid_auto_rows": null,
            "grid_column": null,
            "grid_gap": null,
            "grid_row": null,
            "grid_template_areas": null,
            "grid_template_columns": null,
            "grid_template_rows": null,
            "height": null,
            "justify_content": null,
            "justify_items": null,
            "left": null,
            "margin": null,
            "max_height": null,
            "max_width": null,
            "min_height": null,
            "min_width": null,
            "object_fit": null,
            "object_position": null,
            "order": null,
            "overflow": null,
            "overflow_x": null,
            "overflow_y": null,
            "padding": null,
            "right": null,
            "top": null,
            "visibility": null,
            "width": null
          }
        }
      }
    }
  },
  "nbformat": 4,
  "nbformat_minor": 0
}